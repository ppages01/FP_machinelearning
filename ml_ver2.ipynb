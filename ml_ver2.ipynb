{
 "cells": [
  {
   "cell_type": "markdown",
   "metadata": {},
   "source": [
    "# Introduction\n",
    "Based on P2P dataset of loan data. We will clean up the data, perform some basic analysis and model the data"
   ]
  },
  {
   "cell_type": "markdown",
   "metadata": {},
   "source": [
    "### Imports\n",
    "Import libraries and write settings here."
   ]
  },
  {
   "cell_type": "code",
   "execution_count": 1,
   "metadata": {
    "ExecuteTime": {
     "end_time": "2020-07-23T14:18:54.659738Z",
     "start_time": "2020-07-23T14:18:51.722817Z"
    }
   },
   "outputs": [],
   "source": [
    "# Data manipulation\n",
    "import pandas as pd\n",
    "import numpy as np\n",
    "\n",
    "# Options for pandas\n",
    "pd.options.display.max_columns = 50\n",
    "pd.options.display.max_rows = 30\n",
    "\n",
    "# Display all cell outputs\n",
    "from IPython.core.interactiveshell import InteractiveShell\n",
    "InteractiveShell.ast_node_interactivity = 'all'\n",
    "\n",
    "from IPython import get_ipython\n",
    "ipython = get_ipython()\n",
    "\n",
    "# autoreload extension\n",
    "if 'autoreload' not in ipython.extension_manager.loaded:\n",
    "    %load_ext autoreload\n",
    "\n",
    "%autoreload 2\n",
    "#date\n",
    "import datetime\n",
    "\n",
    "#\n",
    "import itertools\n",
    "\n",
    "\n",
    "# Visualizations\n",
    "import matplotlib.pyplot as plt\n",
    "import matplotlib.patches as mpatches\n",
    "import matplotlib.cm as cm\n",
    "import seaborn as sns\n",
    "\n",
    "# machine learning\n",
    "from scipy.optimize import curve_fit\n",
    "from sklearn.metrics import mean_squared_error\n",
    "from sklearn.metrics import confusion_matrix, accuracy_score\n",
    "\n",
    "# import plotly.plotly as py\n",
    "# import plotly.graph_objs as go\n",
    "# from plotly.offline import iplot, init_notebook_mode\n",
    "# init_notebook_mode(connected=True)\n",
    "\n",
    "# import cufflinks as cf\n",
    "# cf.go_offline(connected=True)\n",
    "# cf.set_config_file(theme='white')"
   ]
  },
  {
   "cell_type": "code",
   "execution_count": 2,
   "metadata": {
    "ExecuteTime": {
     "end_time": "2020-07-23T14:19:48.187880Z",
     "start_time": "2020-07-23T14:18:54.661739Z"
    }
   },
   "outputs": [],
   "source": [
    "df= pd.read_csv(\"loan.csv\", low_memory=False)"
   ]
  },
  {
   "cell_type": "markdown",
   "metadata": {},
   "source": [
    "# PreProcessing\n"
   ]
  },
  {
   "cell_type": "code",
   "execution_count": 3,
   "metadata": {
    "ExecuteTime": {
     "end_time": "2020-07-23T14:19:49.335413Z",
     "start_time": "2020-07-23T14:19:48.189880Z"
    }
   },
   "outputs": [],
   "source": [
    "df = df[[\"funded_amnt\", \"term\", \"int_rate\", \"installment\", \"grade\", \"application_type\", \"sub_grade\", \"emp_length\", \"home_ownership\",\n",
    "         \"annual_inc\", \"verification_status\", \"issue_d\", \"loan_status\", \"purpose\", \"addr_state\", \"dti\", \"open_acc\", \"tot_cur_bal\", \"all_util\", \"num_sats\", \"mort_acc\", \n",
    "         \"pct_tl_nvr_dlq\", \"total_acc\", \"last_pymnt_d\"]].copy()"
   ]
  },
  {
   "cell_type": "code",
   "execution_count": 4,
   "metadata": {
    "ExecuteTime": {
     "end_time": "2020-07-23T14:19:51.619884Z",
     "start_time": "2020-07-23T14:19:49.336413Z"
    }
   },
   "outputs": [],
   "source": [
    "# Drop all current loans and joint loans\n",
    "current_status = [\"Current\", \"In Grace Period\", \"Late (16-30 days)\", \"Late (31-120 days)\"]\n",
    "df = df.loc[(df[\"application_type\"] != \"Joint App\") & (~df[\"loan_status\"].isin(current_status))].copy()\n",
    "\n",
    "# Reduce loan_status values to \"good\" or \"bad\"\n",
    "bad_status = [\"Charged Off\", \"Does not meet the credit policy. Status:Charged Off\", \"Default\"]\n",
    "df[\"loan_status\"] = df[\"loan_status\"].apply(lambda x : \"Bad\" if x in bad_status else \"Good\")\n",
    "\n",
    "# Encode the loan status to 0 or 1 \n",
    "df['loan_status_n'] = df['loan_status'].map({'Bad':0,'Good':1})\n",
    "\n",
    "\n",
    "# Convert emp_length to int\n",
    "employment_length_to_int = {\n",
    "                            'NaN' : 0,\n",
    "                            '< 1 year' : 0,\n",
    "                            '1 year' : 1,\n",
    "                            '2 years' : 2,\n",
    "                            '3 years' : 3,\n",
    "                            '4 years' : 4,\n",
    "                            '5 years' : 5,\n",
    "                            '6 years' : 6,\n",
    "                            '7 years' : 7,\n",
    "                            '8 years' : 8,\n",
    "                            '9 years' : 9,\n",
    "                            '10+ years' : 10\n",
    "                            }\n",
    "df[\"emp_length\"] = df[\"emp_length\"].fillna('NaN').apply(lambda x : employment_length_to_int[x])\n",
    "df['issue_d'] = pd.to_datetime(df['issue_d'])"
   ]
  },
  {
   "cell_type": "code",
   "execution_count": 5,
   "metadata": {
    "ExecuteTime": {
     "end_time": "2020-07-23T14:19:51.866387Z",
     "start_time": "2020-07-23T14:19:51.621886Z"
    }
   },
   "outputs": [],
   "source": [
    "data = df.copy()"
   ]
  },
  {
   "cell_type": "code",
   "execution_count": 6,
   "metadata": {
    "ExecuteTime": {
     "end_time": "2020-07-23T14:19:52.944406Z",
     "start_time": "2020-07-23T14:19:51.868388Z"
    }
   },
   "outputs": [
    {
     "data": {
      "text/html": [
       "<div>\n",
       "<style scoped>\n",
       "    .dataframe tbody tr th:only-of-type {\n",
       "        vertical-align: middle;\n",
       "    }\n",
       "\n",
       "    .dataframe tbody tr th {\n",
       "        vertical-align: top;\n",
       "    }\n",
       "\n",
       "    .dataframe thead th {\n",
       "        text-align: right;\n",
       "    }\n",
       "</style>\n",
       "<table border=\"1\" class=\"dataframe\">\n",
       "  <thead>\n",
       "    <tr style=\"text-align: right;\">\n",
       "      <th></th>\n",
       "      <th>funded_amnt</th>\n",
       "      <th>int_rate</th>\n",
       "      <th>installment</th>\n",
       "      <th>emp_length</th>\n",
       "      <th>annual_inc</th>\n",
       "      <th>dti</th>\n",
       "      <th>open_acc</th>\n",
       "      <th>tot_cur_bal</th>\n",
       "      <th>all_util</th>\n",
       "      <th>num_sats</th>\n",
       "      <th>mort_acc</th>\n",
       "      <th>pct_tl_nvr_dlq</th>\n",
       "      <th>total_acc</th>\n",
       "      <th>loan_status_n</th>\n",
       "    </tr>\n",
       "  </thead>\n",
       "  <tbody>\n",
       "    <tr>\n",
       "      <td>count</td>\n",
       "      <td>1.283143e+06</td>\n",
       "      <td>1.283143e+06</td>\n",
       "      <td>1.283143e+06</td>\n",
       "      <td>1.283143e+06</td>\n",
       "      <td>1.283139e+06</td>\n",
       "      <td>1.283143e+06</td>\n",
       "      <td>1.283114e+06</td>\n",
       "      <td>1.212867e+06</td>\n",
       "      <td>476565.000000</td>\n",
       "      <td>1.224553e+06</td>\n",
       "      <td>1.233113e+06</td>\n",
       "      <td>1.212713e+06</td>\n",
       "      <td>1.283114e+06</td>\n",
       "      <td>1.283143e+06</td>\n",
       "    </tr>\n",
       "    <tr>\n",
       "      <td>mean</td>\n",
       "      <td>1.431225e+04</td>\n",
       "      <td>1.323331e+01</td>\n",
       "      <td>4.354412e+02</td>\n",
       "      <td>5.646992e+00</td>\n",
       "      <td>7.648202e+04</td>\n",
       "      <td>1.800362e+01</td>\n",
       "      <td>1.159645e+01</td>\n",
       "      <td>1.403493e+05</td>\n",
       "      <td>58.189072</td>\n",
       "      <td>1.164978e+01</td>\n",
       "      <td>1.672651e+00</td>\n",
       "      <td>9.416867e+01</td>\n",
       "      <td>2.503765e+01</td>\n",
       "      <td>7.999358e-01</td>\n",
       "    </tr>\n",
       "    <tr>\n",
       "      <td>std</td>\n",
       "      <td>8.639600e+03</td>\n",
       "      <td>4.734387e+00</td>\n",
       "      <td>2.594479e+02</td>\n",
       "      <td>3.832226e+00</td>\n",
       "      <td>7.043168e+04</td>\n",
       "      <td>8.359684e+00</td>\n",
       "      <td>5.466381e+00</td>\n",
       "      <td>1.570707e+05</td>\n",
       "      <td>20.912622</td>\n",
       "      <td>5.474812e+00</td>\n",
       "      <td>2.007355e+00</td>\n",
       "      <td>8.725253e+00</td>\n",
       "      <td>1.200472e+01</td>\n",
       "      <td>4.000483e-01</td>\n",
       "    </tr>\n",
       "    <tr>\n",
       "      <td>min</td>\n",
       "      <td>5.000000e+02</td>\n",
       "      <td>5.310000e+00</td>\n",
       "      <td>4.930000e+00</td>\n",
       "      <td>0.000000e+00</td>\n",
       "      <td>1.896000e+03</td>\n",
       "      <td>-1.000000e+00</td>\n",
       "      <td>0.000000e+00</td>\n",
       "      <td>0.000000e+00</td>\n",
       "      <td>0.000000</td>\n",
       "      <td>0.000000e+00</td>\n",
       "      <td>0.000000e+00</td>\n",
       "      <td>0.000000e+00</td>\n",
       "      <td>1.000000e+00</td>\n",
       "      <td>0.000000e+00</td>\n",
       "    </tr>\n",
       "    <tr>\n",
       "      <td>25%</td>\n",
       "      <td>7.800000e+03</td>\n",
       "      <td>9.750000e+00</td>\n",
       "      <td>2.475000e+02</td>\n",
       "      <td>2.000000e+00</td>\n",
       "      <td>4.600000e+04</td>\n",
       "      <td>1.174000e+01</td>\n",
       "      <td>8.000000e+00</td>\n",
       "      <td>2.931500e+04</td>\n",
       "      <td>44.000000</td>\n",
       "      <td>8.000000e+00</td>\n",
       "      <td>0.000000e+00</td>\n",
       "      <td>9.130000e+01</td>\n",
       "      <td>1.600000e+01</td>\n",
       "      <td>1.000000e+00</td>\n",
       "    </tr>\n",
       "    <tr>\n",
       "      <td>50%</td>\n",
       "      <td>1.200000e+04</td>\n",
       "      <td>1.274000e+01</td>\n",
       "      <td>3.732200e+02</td>\n",
       "      <td>6.000000e+00</td>\n",
       "      <td>6.500000e+04</td>\n",
       "      <td>1.752000e+01</td>\n",
       "      <td>1.100000e+01</td>\n",
       "      <td>7.927400e+04</td>\n",
       "      <td>59.000000</td>\n",
       "      <td>1.100000e+01</td>\n",
       "      <td>1.000000e+00</td>\n",
       "      <td>9.790000e+01</td>\n",
       "      <td>2.300000e+01</td>\n",
       "      <td>1.000000e+00</td>\n",
       "    </tr>\n",
       "    <tr>\n",
       "      <td>75%</td>\n",
       "      <td>2.000000e+04</td>\n",
       "      <td>1.599000e+01</td>\n",
       "      <td>5.762900e+02</td>\n",
       "      <td>1.000000e+01</td>\n",
       "      <td>9.000000e+04</td>\n",
       "      <td>2.388000e+01</td>\n",
       "      <td>1.400000e+01</td>\n",
       "      <td>2.093515e+05</td>\n",
       "      <td>73.000000</td>\n",
       "      <td>1.400000e+01</td>\n",
       "      <td>3.000000e+00</td>\n",
       "      <td>1.000000e+02</td>\n",
       "      <td>3.200000e+01</td>\n",
       "      <td>1.000000e+00</td>\n",
       "    </tr>\n",
       "    <tr>\n",
       "      <td>max</td>\n",
       "      <td>4.000000e+04</td>\n",
       "      <td>3.099000e+01</td>\n",
       "      <td>1.719830e+03</td>\n",
       "      <td>1.000000e+01</td>\n",
       "      <td>1.099920e+07</td>\n",
       "      <td>4.996000e+01</td>\n",
       "      <td>9.000000e+01</td>\n",
       "      <td>8.000078e+06</td>\n",
       "      <td>198.000000</td>\n",
       "      <td>9.000000e+01</td>\n",
       "      <td>5.100000e+01</td>\n",
       "      <td>1.000000e+02</td>\n",
       "      <td>1.760000e+02</td>\n",
       "      <td>1.000000e+00</td>\n",
       "    </tr>\n",
       "  </tbody>\n",
       "</table>\n",
       "</div>"
      ],
      "text/plain": [
       "        funded_amnt      int_rate   installment    emp_length    annual_inc  \\\n",
       "count  1.283143e+06  1.283143e+06  1.283143e+06  1.283143e+06  1.283139e+06   \n",
       "mean   1.431225e+04  1.323331e+01  4.354412e+02  5.646992e+00  7.648202e+04   \n",
       "std    8.639600e+03  4.734387e+00  2.594479e+02  3.832226e+00  7.043168e+04   \n",
       "min    5.000000e+02  5.310000e+00  4.930000e+00  0.000000e+00  1.896000e+03   \n",
       "25%    7.800000e+03  9.750000e+00  2.475000e+02  2.000000e+00  4.600000e+04   \n",
       "50%    1.200000e+04  1.274000e+01  3.732200e+02  6.000000e+00  6.500000e+04   \n",
       "75%    2.000000e+04  1.599000e+01  5.762900e+02  1.000000e+01  9.000000e+04   \n",
       "max    4.000000e+04  3.099000e+01  1.719830e+03  1.000000e+01  1.099920e+07   \n",
       "\n",
       "                dti      open_acc   tot_cur_bal       all_util      num_sats  \\\n",
       "count  1.283143e+06  1.283114e+06  1.212867e+06  476565.000000  1.224553e+06   \n",
       "mean   1.800362e+01  1.159645e+01  1.403493e+05      58.189072  1.164978e+01   \n",
       "std    8.359684e+00  5.466381e+00  1.570707e+05      20.912622  5.474812e+00   \n",
       "min   -1.000000e+00  0.000000e+00  0.000000e+00       0.000000  0.000000e+00   \n",
       "25%    1.174000e+01  8.000000e+00  2.931500e+04      44.000000  8.000000e+00   \n",
       "50%    1.752000e+01  1.100000e+01  7.927400e+04      59.000000  1.100000e+01   \n",
       "75%    2.388000e+01  1.400000e+01  2.093515e+05      73.000000  1.400000e+01   \n",
       "max    4.996000e+01  9.000000e+01  8.000078e+06     198.000000  9.000000e+01   \n",
       "\n",
       "           mort_acc  pct_tl_nvr_dlq     total_acc  loan_status_n  \n",
       "count  1.233113e+06    1.212713e+06  1.283114e+06   1.283143e+06  \n",
       "mean   1.672651e+00    9.416867e+01  2.503765e+01   7.999358e-01  \n",
       "std    2.007355e+00    8.725253e+00  1.200472e+01   4.000483e-01  \n",
       "min    0.000000e+00    0.000000e+00  1.000000e+00   0.000000e+00  \n",
       "25%    0.000000e+00    9.130000e+01  1.600000e+01   1.000000e+00  \n",
       "50%    1.000000e+00    9.790000e+01  2.300000e+01   1.000000e+00  \n",
       "75%    3.000000e+00    1.000000e+02  3.200000e+01   1.000000e+00  \n",
       "max    5.100000e+01    1.000000e+02  1.760000e+02   1.000000e+00  "
      ]
     },
     "execution_count": 6,
     "metadata": {},
     "output_type": "execute_result"
    }
   ],
   "source": [
    "data.describe()"
   ]
  },
  {
   "cell_type": "markdown",
   "metadata": {},
   "source": [
    "## Subgrade encoding"
   ]
  },
  {
   "cell_type": "code",
   "execution_count": 7,
   "metadata": {
    "ExecuteTime": {
     "end_time": "2020-07-23T14:19:57.883806Z",
     "start_time": "2020-07-23T14:19:52.948406Z"
    }
   },
   "outputs": [],
   "source": [
    "#required\n",
    "\n",
    "lst = [data]\n",
    "data['sub_int'] = np.nan\n",
    "\n",
    "for col in lst:\n",
    "    col.loc[col['sub_grade']=='A1', 'sub_int'] = 1\n",
    "    col.loc[col['sub_grade']=='A2', 'sub_int'] = 2\n",
    "    col.loc[col['sub_grade']=='A3', 'sub_int'] = 3\n",
    "    col.loc[col['sub_grade']=='A4', 'sub_int'] = 4\n",
    "    col.loc[col['sub_grade']=='A5', 'sub_int'] = 5\n",
    "    col.loc[col['sub_grade']=='B1', 'sub_int'] = 6\n",
    "    col.loc[col['sub_grade']=='B2', 'sub_int'] = 7\n",
    "    col.loc[col['sub_grade']=='B3', 'sub_int'] = 8\n",
    "    col.loc[col['sub_grade']=='B4', 'sub_int'] = 9\n",
    "    col.loc[col['sub_grade']=='B5', 'sub_int'] = 10\n",
    "    col.loc[col['sub_grade']=='C1', 'sub_int'] = 11\n",
    "    col.loc[col['sub_grade']=='C2', 'sub_int'] = 12\n",
    "    col.loc[col['sub_grade']=='C3', 'sub_int'] = 13\n",
    "    col.loc[col['sub_grade']=='C4', 'sub_int'] = 14\n",
    "    col.loc[col['sub_grade']=='C5', 'sub_int'] = 15\n",
    "    col.loc[col['sub_grade']=='D1', 'sub_int'] = 16\n",
    "    col.loc[col['sub_grade']=='D2', 'sub_int'] = 17\n",
    "    col.loc[col['sub_grade']=='D3', 'sub_int'] = 18\n",
    "    col.loc[col['sub_grade']=='D4', 'sub_int'] = 19\n",
    "    col.loc[col['sub_grade']=='D5', 'sub_int'] = 20\n",
    "    col.loc[col['sub_grade']=='E1', 'sub_int'] = 21\n",
    "    col.loc[col['sub_grade']=='E2', 'sub_int'] = 22\n",
    "    col.loc[col['sub_grade']=='E3', 'sub_int'] = 23\n",
    "    col.loc[col['sub_grade']=='E4', 'sub_int'] = 24\n",
    "    col.loc[col['sub_grade']=='E5', 'sub_int'] = 25\n",
    "    col.loc[col['sub_grade']=='F1', 'sub_int'] = 26\n",
    "    col.loc[col['sub_grade']=='F2', 'sub_int'] = 27\n",
    "    col.loc[col['sub_grade']=='F3', 'sub_int'] = 28\n",
    "    col.loc[col['sub_grade']=='F4', 'sub_int'] = 29\n",
    "    col.loc[col['sub_grade']=='F5', 'sub_int'] = 30\n",
    "    col.loc[col['sub_grade']=='G1', 'sub_int'] = 30\n",
    "    col.loc[col['sub_grade']=='G2', 'sub_int'] = 31\n",
    "    col.loc[col['sub_grade']=='G3', 'sub_int'] = 32\n",
    "    col.loc[col['sub_grade']=='G4', 'sub_int'] = 33\n",
    "    col.loc[col['sub_grade']=='G5', 'sub_int'] = 35 "
   ]
  },
  {
   "cell_type": "code",
   "execution_count": 8,
   "metadata": {
    "ExecuteTime": {
     "end_time": "2020-07-23T14:19:58.016803Z",
     "start_time": "2020-07-23T14:19:57.885806Z"
    },
    "scrolled": true
   },
   "outputs": [
    {
     "data": {
      "text/plain": [
       "Index(['funded_amnt', 'term', 'int_rate', 'installment', 'grade',\n",
       "       'application_type', 'sub_grade', 'emp_length', 'home_ownership',\n",
       "       'annual_inc', 'verification_status', 'issue_d', 'loan_status',\n",
       "       'purpose', 'addr_state', 'dti', 'open_acc', 'tot_cur_bal', 'all_util',\n",
       "       'num_sats', 'mort_acc', 'pct_tl_nvr_dlq', 'total_acc', 'last_pymnt_d',\n",
       "       'loan_status_n', 'sub_int'],\n",
       "      dtype='object')"
      ]
     },
     "execution_count": 8,
     "metadata": {},
     "output_type": "execute_result"
    }
   ],
   "source": [
    "data.columns"
   ]
  },
  {
   "cell_type": "code",
   "execution_count": 9,
   "metadata": {
    "ExecuteTime": {
     "end_time": "2020-07-23T14:19:58.393807Z",
     "start_time": "2020-07-23T14:19:58.019311Z"
    }
   },
   "outputs": [
    {
     "data": {
      "image/png": "[encoded data removed]",
      "text/plain": [
       "<Figure size 432x288 with 1 Axes>"
      ]
     },
     "metadata": {
      "needs_background": "light"
     },
     "output_type": "display_data"
    }
   ],
   "source": [
    "loans = data['loan_status'].value_counts().plot(kind='bar')\n",
    "\n"
   ]
  },
  {
   "cell_type": "code",
   "execution_count": 10,
   "metadata": {
    "ExecuteTime": {
     "end_time": "2020-07-23T14:19:58.761807Z",
     "start_time": "2020-07-23T14:19:58.395807Z"
    },
    "scrolled": true
   },
   "outputs": [
    {
     "data": {
      "text/html": [
       "<div>\n",
       "<style scoped>\n",
       "    .dataframe tbody tr th:only-of-type {\n",
       "        vertical-align: middle;\n",
       "    }\n",
       "\n",
       "    .dataframe tbody tr th {\n",
       "        vertical-align: top;\n",
       "    }\n",
       "\n",
       "    .dataframe thead th {\n",
       "        text-align: right;\n",
       "    }\n",
       "</style>\n",
       "<table border=\"1\" class=\"dataframe\">\n",
       "  <thead>\n",
       "    <tr style=\"text-align: right;\">\n",
       "      <th></th>\n",
       "      <th>Counts</th>\n",
       "      <th>Percentages</th>\n",
       "    </tr>\n",
       "  </thead>\n",
       "  <tbody>\n",
       "    <tr>\n",
       "      <td>Good</td>\n",
       "      <td>1,026,432</td>\n",
       "      <td>0.80%</td>\n",
       "    </tr>\n",
       "    <tr>\n",
       "      <td>Bad</td>\n",
       "      <td>256,711</td>\n",
       "      <td>0.20%</td>\n",
       "    </tr>\n",
       "  </tbody>\n",
       "</table>\n",
       "</div>"
      ],
      "text/plain": [
       "         Counts Percentages\n",
       "Good  1,026,432       0.80%\n",
       "Bad     256,711       0.20%"
      ]
     },
     "execution_count": 10,
     "metadata": {},
     "output_type": "execute_result"
    }
   ],
   "source": [
    "initial_loan_status_df = pd.DataFrame({\n",
    "    \"Counts\" : data[\"loan_status\"].value_counts(),\n",
    "    \"Percentages\" : data[\"loan_status\"].value_counts(normalize = True)\n",
    "})\n",
    "\n",
    "initial_loan_status_df[\"Counts\"] = initial_loan_status_df[\"Counts\"].map(\"{:,.0f}\".format)\n",
    "initial_loan_status_df[\"Percentages\"] = initial_loan_status_df[\"Percentages\"].map(\"{0:.2f}%\".format)\n",
    "\n",
    "initial_loan_status_df"
   ]
  },
  {
   "cell_type": "markdown",
   "metadata": {},
   "source": [
    "# Data Imbalance Mitigation"
   ]
  },
  {
   "cell_type": "code",
   "execution_count": 11,
   "metadata": {
    "ExecuteTime": {
     "end_time": "2020-07-23T14:20:00.746783Z",
     "start_time": "2020-07-23T14:19:58.762806Z"
    }
   },
   "outputs": [],
   "source": [
    "good_sample = data[(data.loan_status == \"Good\")]\n",
    "bad_sample = data[(data.loan_status == \"Bad\")]\n",
    "bad_adjusted = bad_sample.append([bad_sample] *3)\n",
    "combined_sample = good_sample.append(bad_adjusted)"
   ]
  },
  {
   "cell_type": "code",
   "execution_count": 12,
   "metadata": {
    "ExecuteTime": {
     "end_time": "2020-07-23T14:20:01.238779Z",
     "start_time": "2020-07-23T14:20:00.748784Z"
    }
   },
   "outputs": [
    {
     "data": {
      "text/html": [
       "<div>\n",
       "<style scoped>\n",
       "    .dataframe tbody tr th:only-of-type {\n",
       "        vertical-align: middle;\n",
       "    }\n",
       "\n",
       "    .dataframe tbody tr th {\n",
       "        vertical-align: top;\n",
       "    }\n",
       "\n",
       "    .dataframe thead th {\n",
       "        text-align: right;\n",
       "    }\n",
       "</style>\n",
       "<table border=\"1\" class=\"dataframe\">\n",
       "  <thead>\n",
       "    <tr style=\"text-align: right;\">\n",
       "      <th></th>\n",
       "      <th>Counts</th>\n",
       "      <th>Percentages</th>\n",
       "    </tr>\n",
       "  </thead>\n",
       "  <tbody>\n",
       "    <tr>\n",
       "      <td>Bad</td>\n",
       "      <td>1,026,844</td>\n",
       "      <td>0.50%</td>\n",
       "    </tr>\n",
       "    <tr>\n",
       "      <td>Good</td>\n",
       "      <td>1,026,432</td>\n",
       "      <td>0.50%</td>\n",
       "    </tr>\n",
       "  </tbody>\n",
       "</table>\n",
       "</div>"
      ],
      "text/plain": [
       "         Counts Percentages\n",
       "Bad   1,026,844       0.50%\n",
       "Good  1,026,432       0.50%"
      ]
     },
     "execution_count": 12,
     "metadata": {},
     "output_type": "execute_result"
    }
   ],
   "source": [
    "adjusted_loan_status_df = pd.DataFrame({\n",
    "    \"Counts\" : combined_sample[\"loan_status\"].value_counts(),\n",
    "    \"Percentages\" : combined_sample[\"loan_status\"].value_counts(normalize = True)\n",
    "})\n",
    "\n",
    "adjusted_loan_status_df[\"Counts\"] = adjusted_loan_status_df[\"Counts\"].map(\"{:,.0f}\".format)\n",
    "adjusted_loan_status_df[\"Percentages\"] = adjusted_loan_status_df[\"Percentages\"].map(\"{0:.2f}%\".format)\n",
    "\n",
    "adjusted_loan_status_df"
   ]
  },
  {
   "cell_type": "markdown",
   "metadata": {},
   "source": [
    "# Hot encoding the subgrades"
   ]
  },
  {
   "cell_type": "code",
   "execution_count": 13,
   "metadata": {
    "ExecuteTime": {
     "end_time": "2020-07-23T14:20:02.124750Z",
     "start_time": "2020-07-23T14:20:01.239779Z"
    }
   },
   "outputs": [],
   "source": [
    "cat_var = ['sub_grade']\n",
    "data = pd.get_dummies(data, columns=cat_var)"
   ]
  },
  {
   "cell_type": "code",
   "execution_count": 14,
   "metadata": {
    "ExecuteTime": {
     "end_time": "2020-07-23T14:20:02.236748Z",
     "start_time": "2020-07-23T14:20:02.126751Z"
    }
   },
   "outputs": [
    {
     "data": {
      "text/plain": [
       "Index(['funded_amnt', 'term', 'int_rate', 'installment', 'grade',\n",
       "       'application_type', 'emp_length', 'home_ownership', 'annual_inc',\n",
       "       'verification_status', 'issue_d', 'loan_status', 'purpose',\n",
       "       'addr_state', 'dti', 'open_acc', 'tot_cur_bal', 'all_util', 'num_sats',\n",
       "       'mort_acc', 'pct_tl_nvr_dlq', 'total_acc', 'last_pymnt_d',\n",
       "       'loan_status_n', 'sub_int', 'sub_grade_A1', 'sub_grade_A2',\n",
       "       'sub_grade_A3', 'sub_grade_A4', 'sub_grade_A5', 'sub_grade_B1',\n",
       "       'sub_grade_B2', 'sub_grade_B3', 'sub_grade_B4', 'sub_grade_B5',\n",
       "       'sub_grade_C1', 'sub_grade_C2', 'sub_grade_C3', 'sub_grade_C4',\n",
       "       'sub_grade_C5', 'sub_grade_D1', 'sub_grade_D2', 'sub_grade_D3',\n",
       "       'sub_grade_D4', 'sub_grade_D5', 'sub_grade_E1', 'sub_grade_E2',\n",
       "       'sub_grade_E3', 'sub_grade_E4', 'sub_grade_E5', 'sub_grade_F1',\n",
       "       'sub_grade_F2', 'sub_grade_F3', 'sub_grade_F4', 'sub_grade_F5',\n",
       "       'sub_grade_G1', 'sub_grade_G2', 'sub_grade_G3', 'sub_grade_G4',\n",
       "       'sub_grade_G5'],\n",
       "      dtype='object')"
      ]
     },
     "execution_count": 14,
     "metadata": {},
     "output_type": "execute_result"
    }
   ],
   "source": [
    "data.columns"
   ]
  },
  {
   "cell_type": "code",
   "execution_count": 15,
   "metadata": {
    "ExecuteTime": {
     "end_time": "2020-07-23T14:20:04.112280Z",
     "start_time": "2020-07-23T14:20:02.238272Z"
    }
   },
   "outputs": [],
   "source": [
    "combined_sample = pd.get_dummies(combined_sample, columns=cat_var)\n"
   ]
  },
  {
   "cell_type": "code",
   "execution_count": 16,
   "metadata": {
    "ExecuteTime": {
     "end_time": "2020-07-23T14:20:04.233277Z",
     "start_time": "2020-07-23T14:20:04.114281Z"
    }
   },
   "outputs": [
    {
     "data": {
      "text/plain": [
       "Index(['funded_amnt', 'term', 'int_rate', 'installment', 'grade',\n",
       "       'application_type', 'emp_length', 'home_ownership', 'annual_inc',\n",
       "       'verification_status', 'issue_d', 'loan_status', 'purpose',\n",
       "       'addr_state', 'dti', 'open_acc', 'tot_cur_bal', 'all_util', 'num_sats',\n",
       "       'mort_acc', 'pct_tl_nvr_dlq', 'total_acc', 'last_pymnt_d',\n",
       "       'loan_status_n', 'sub_int', 'sub_grade_A1', 'sub_grade_A2',\n",
       "       'sub_grade_A3', 'sub_grade_A4', 'sub_grade_A5', 'sub_grade_B1',\n",
       "       'sub_grade_B2', 'sub_grade_B3', 'sub_grade_B4', 'sub_grade_B5',\n",
       "       'sub_grade_C1', 'sub_grade_C2', 'sub_grade_C3', 'sub_grade_C4',\n",
       "       'sub_grade_C5', 'sub_grade_D1', 'sub_grade_D2', 'sub_grade_D3',\n",
       "       'sub_grade_D4', 'sub_grade_D5', 'sub_grade_E1', 'sub_grade_E2',\n",
       "       'sub_grade_E3', 'sub_grade_E4', 'sub_grade_E5', 'sub_grade_F1',\n",
       "       'sub_grade_F2', 'sub_grade_F3', 'sub_grade_F4', 'sub_grade_F5',\n",
       "       'sub_grade_G1', 'sub_grade_G2', 'sub_grade_G3', 'sub_grade_G4',\n",
       "       'sub_grade_G5'],\n",
       "      dtype='object')"
      ]
     },
     "execution_count": 16,
     "metadata": {},
     "output_type": "execute_result"
    }
   ],
   "source": [
    "combined_sample.columns"
   ]
  },
  {
   "cell_type": "markdown",
   "metadata": {},
   "source": [
    "# Functions"
   ]
  },
  {
   "cell_type": "code",
   "execution_count": 17,
   "metadata": {
    "ExecuteTime": {
     "end_time": "2020-07-23T14:20:04.352273Z",
     "start_time": "2020-07-23T14:20:04.235277Z"
    }
   },
   "outputs": [],
   "source": [
    "#Evaluation of Model - Confusion Matrix Plot\n",
    "def plot_confusion_matrix(cm, title,\n",
    "                          normalize=False,\n",
    "                          cmap=plt.cm.Blues):\n",
    "    plt.figure(figsize=(5.5,4))\n",
    "    xticks = ['Bad Loans', 'Good Loans']\n",
    "    yticks = ['Bad Loans', 'Good Loans']\n",
    "    \n",
    "    group_names = ['True Neg','False Pos','False Neg','True Pos']\n",
    "    group_counts = ['{0:0.0f}'.format(value) for value in\n",
    "                    cnf_matrix.flatten()]\n",
    "    group_percentages = ['{0:.2%}'.format(value) for value in\n",
    "                         cnf_matrix.flatten()/np.sum(cnf_matrix)]\n",
    "    labels = [f'{v1}\\n{v2}\\n{v3}' for v1, v2, v3 in zip(group_names,group_counts,group_percentages)]\n",
    "    categories = ['Bad Loan','Positive']\n",
    "    labels = np.asarray(labels).reshape(2,2)\n",
    "    sns.heatmap(cnf_matrix, annot=labels, fmt='', cmap='Reds', xticklabels=xticks, yticklabels=yticks)\n",
    "    plt.xlabel('Predicated Label')\n",
    "    plt.ylabel('True Label')\n",
    "    plt.title(title)\n",
    "    plt.show()\n",
    "    "
   ]
  },
  {
   "cell_type": "code",
   "execution_count": 18,
   "metadata": {
    "ExecuteTime": {
     "end_time": "2020-07-23T14:20:04.469268Z",
     "start_time": "2020-07-23T14:20:04.354271Z"
    }
   },
   "outputs": [],
   "source": [
    "def get_confusion_stats(y_test, y_pred):\n",
    "    \"\"\"\n",
    "    Based on y_test, and y_pred it will calculate a series of metrics\n",
    "    true_positives (GOOD LOAN/GOODLOAN)\n",
    "    false_positives(BAD LOAN/GOOD LOAN)\n",
    "    true_negatives (BAD/BAD)\n",
    "    false_negatives (GOOD/BAD)\n",
    "\n",
    "    Accuracy - Classification Accuracy: Overall, how often is the classifier correct?\n",
    "\n",
    "    Precision - This measure is important. We want close to 1.00.\n",
    "    We cacluate the ratio of true positive over the entire sets of true positive and false positives\n",
    "\n",
    "    Recall (aka sensitivity)-  We calculate the ratio of true positives over the entire sets of true positives and false negatives\n",
    "\n",
    "    F1 Score-  ranges from 0 to 1. F1 Score reaches its best value at 1 (perfect precision & recall) and worst at 0,\n",
    "\n",
    "    Specificity - True Negative Rate (Prportion of actual negaties that are correctly identified)\n",
    "\n",
    "    \"\"\"\n",
    "\n",
    "    tn, fp, fn, tp = confusion_matrix(y_test, y_pred).ravel()\n",
    "    total = tn+fp+fn+tp\n",
    "    print(\"True Negatives: \", tn, (tn/total)*100)\n",
    "    print(\"False Positives: \", fp, (fp/total)*100)\n",
    "    print(\"False Negatives: \", fn, (fn/total)*100)\n",
    "    print(\"True Positives: \", tp, (tp/total)*100)\n",
    "\n",
    "    Accuracy = (tn+tp)*100/(tp+tn+fp+fn)\n",
    "    print(f\"Accuracy {Accuracy}\")\n",
    "\n",
    "    Precision = tp/(tp+fp)\n",
    "    print(\"Precision {:0.2f}\".format(Precision))\n",
    "\n",
    "    Recall = tp/(tp+fn)\n",
    "    print(\"Recall {:0.2f}\".format(Recall))\n",
    "\n",
    "    f1 = (2*Precision*Recall)/(Precision + Recall)\n",
    "    print(\"F1 Score {:0.2f}\".format(f1))\n",
    "\n",
    "    Specificity = tn/(tn+fp)\n",
    "    print(\"Specificity {:0.2f}\".format(Specificity))"
   ]
  },
  {
   "cell_type": "markdown",
   "metadata": {},
   "source": [
    "# Analysis/Modeling\n",
    "Logistic Model"
   ]
  },
  {
   "cell_type": "code",
   "execution_count": 22,
   "metadata": {
    "ExecuteTime": {
     "end_time": "2020-07-23T14:21:17.792688Z",
     "start_time": "2020-07-23T14:21:15.175658Z"
    }
   },
   "outputs": [
    {
     "data": {
      "text/plain": [
       "<Figure size 1080x1080 with 0 Axes>"
      ]
     },
     "execution_count": 22,
     "metadata": {},
     "output_type": "execute_result"
    },
    {
     "data": {
      "text/plain": [
       "<matplotlib.axes._subplots.AxesSubplot at 0x2059b550408>"
      ]
     },
     "execution_count": 22,
     "metadata": {},
     "output_type": "execute_result"
    },
    {
     "data": {
      "image/png": "[encoded data removed]",
      "text/plain": [
       "<Figure size 1080x1080 with 2 Axes>"
      ]
     },
     "metadata": {
      "needs_background": "light"
     },
     "output_type": "display_data"
    }
   ],
   "source": [
    "cor = df.corr()\n",
    "plt.figure(figsize=(15,15))\n",
    "sns.heatmap(cor, annot=True)"
   ]
  },
  {
   "cell_type": "markdown",
   "metadata": {},
   "source": [
    "## Logistics Model (sub_grades) w/ sample size mitigation"
   ]
  },
  {
   "cell_type": "code",
   "execution_count": 23,
   "metadata": {
    "ExecuteTime": {
     "end_time": "2020-07-23T14:21:46.760820Z",
     "start_time": "2020-07-23T14:21:46.518828Z"
    }
   },
   "outputs": [],
   "source": [
    "# Set features. This will also be used as your x values.\n",
    "# x values will be the dscr calculated result, interest rate, amount funded, employment length\n",
    "selected_features = combined_sample[['sub_grade_A1', 'sub_grade_A2',\n",
    "       'sub_grade_A3', 'sub_grade_A4', 'sub_grade_A5', 'sub_grade_B1',\n",
    "       'sub_grade_B2', 'sub_grade_B3', 'sub_grade_B4', 'sub_grade_B5',\n",
    "       'sub_grade_C1', 'sub_grade_C2', 'sub_grade_C3', 'sub_grade_C4',\n",
    "       'sub_grade_C5', 'sub_grade_D1', 'sub_grade_D2', 'sub_grade_D3',\n",
    "       'sub_grade_D4', 'sub_grade_D5', 'sub_grade_E1', 'sub_grade_E2',\n",
    "       'sub_grade_E3', 'sub_grade_E4', 'sub_grade_E5', 'sub_grade_F1',\n",
    "       'sub_grade_F2', 'sub_grade_F3', 'sub_grade_F4', 'sub_grade_F5',\n",
    "       'sub_grade_G1', 'sub_grade_G2', 'sub_grade_G3', 'sub_grade_G4',\n",
    "       'sub_grade_G5', 'loan_status_n']]"
   ]
  },
  {
   "cell_type": "code",
   "execution_count": 24,
   "metadata": {
    "ExecuteTime": {
     "end_time": "2020-07-23T14:21:58.371704Z",
     "start_time": "2020-07-23T14:21:58.223690Z"
    }
   },
   "outputs": [
    {
     "data": {
      "text/plain": [
       "0    1026844\n",
       "1    1026432\n",
       "Name: loan_status_n, dtype: int64"
      ]
     },
     "execution_count": 24,
     "metadata": {},
     "output_type": "execute_result"
    }
   ],
   "source": [
    "selected_features['loan_status_n'].value_counts()"
   ]
  },
  {
   "cell_type": "code",
   "execution_count": 26,
   "metadata": {
    "ExecuteTime": {
     "end_time": "2020-07-23T14:22:41.768602Z",
     "start_time": "2020-07-23T14:22:41.528582Z"
    }
   },
   "outputs": [],
   "source": [
    "X = selected_features.drop(\"loan_status_n\", axis=1)\n",
    "y = selected_features['loan_status_n']"
   ]
  },
  {
   "cell_type": "code",
   "execution_count": 27,
   "metadata": {
    "ExecuteTime": {
     "end_time": "2020-07-23T14:22:53.329103Z",
     "start_time": "2020-07-23T14:22:53.158109Z"
    }
   },
   "outputs": [
    {
     "data": {
      "text/plain": [
       "LogisticRegression(C=1.0, class_weight=None, dual=False, fit_intercept=False,\n",
       "                   intercept_scaling=1, l1_ratio=None, max_iter=100,\n",
       "                   multi_class='warn', n_jobs=None, penalty='l2',\n",
       "                   random_state=None, solver='warn', tol=0.0001, verbose=0,\n",
       "                   warm_start=False)"
      ]
     },
     "execution_count": 27,
     "metadata": {},
     "output_type": "execute_result"
    }
   ],
   "source": [
    "from sklearn.linear_model import LogisticRegression\n",
    "model = LogisticRegression(fit_intercept=False)\n",
    "model"
   ]
  },
  {
   "cell_type": "code",
   "execution_count": 28,
   "metadata": {
    "ExecuteTime": {
     "end_time": "2020-07-23T14:23:05.544267Z",
     "start_time": "2020-07-23T14:23:04.870265Z"
    }
   },
   "outputs": [
    {
     "name": "stdout",
     "output_type": "stream",
     "text": [
      "number of training samples:  615982\n",
      "number of test samples:  1437294\n"
     ]
    }
   ],
   "source": [
    "from sklearn.model_selection import train_test_split\n",
    "\n",
    "X_train, X_test, y_train, y_test = train_test_split(X, y, test_size=0.7, random_state=0)\n",
    "\n",
    "print (\"number of training samples: \", len(X_train))\n",
    "print (\"number of test samples: \", len(y_test))"
   ]
  },
  {
   "cell_type": "code",
   "execution_count": 29,
   "metadata": {
    "ExecuteTime": {
     "end_time": "2020-07-23T14:23:18.744290Z",
     "start_time": "2020-07-23T14:23:17.082314Z"
    }
   },
   "outputs": [
    {
     "name": "stderr",
     "output_type": "stream",
     "text": [
      "C:\\Users\\ppage\\Anaconda3\\envs\\TF\\lib\\site-packages\\sklearn\\linear_model\\logistic.py:432: FutureWarning: Default solver will be changed to 'lbfgs' in 0.22. Specify a solver to silence this warning.\n",
      "  FutureWarning)\n"
     ]
    },
    {
     "data": {
      "text/plain": [
       "LogisticRegression(C=1.0, class_weight=None, dual=False, fit_intercept=False,\n",
       "                   intercept_scaling=1, l1_ratio=None, max_iter=100,\n",
       "                   multi_class='warn', n_jobs=None, penalty='l2',\n",
       "                   random_state=None, solver='warn', tol=0.0001, verbose=0,\n",
       "                   warm_start=False)"
      ]
     },
     "execution_count": 29,
     "metadata": {},
     "output_type": "execute_result"
    }
   ],
   "source": [
    "model.fit(X_train,y_train)"
   ]
  },
  {
   "cell_type": "code",
   "execution_count": 30,
   "metadata": {
    "ExecuteTime": {
     "end_time": "2020-07-23T14:23:31.140663Z",
     "start_time": "2020-07-23T14:23:30.331674Z"
    }
   },
   "outputs": [
    {
     "name": "stdout",
     "output_type": "stream",
     "text": [
      "Training Accuracy: 63.81826092320879\n",
      "Testing Accuracy: 63.81825847738875\n"
     ]
    }
   ],
   "source": [
    "print(f\"Training Accuracy: {model.score(X_train, y_train)*100}\")\n",
    "print(f\"Testing Accuracy: {model.score(X_test, y_test)*100}\")"
   ]
  },
  {
   "cell_type": "code",
   "execution_count": 31,
   "metadata": {
    "ExecuteTime": {
     "end_time": "2020-07-23T14:23:43.058044Z",
     "start_time": "2020-07-23T14:23:42.664043Z"
    }
   },
   "outputs": [],
   "source": [
    "y_pred = model.predict(X_test)"
   ]
  },
  {
   "cell_type": "code",
   "execution_count": 32,
   "metadata": {
    "ExecuteTime": {
     "end_time": "2020-07-23T14:23:54.789972Z",
     "start_time": "2020-07-23T14:23:54.649951Z"
    }
   },
   "outputs": [
    {
     "data": {
      "text/html": [
       "<div>\n",
       "<style scoped>\n",
       "    .dataframe tbody tr th:only-of-type {\n",
       "        vertical-align: middle;\n",
       "    }\n",
       "\n",
       "    .dataframe tbody tr th {\n",
       "        vertical-align: top;\n",
       "    }\n",
       "\n",
       "    .dataframe thead th {\n",
       "        text-align: right;\n",
       "    }\n",
       "</style>\n",
       "<table border=\"1\" class=\"dataframe\">\n",
       "  <thead>\n",
       "    <tr style=\"text-align: right;\">\n",
       "      <th></th>\n",
       "      <th>Prediction</th>\n",
       "      <th>Actual</th>\n",
       "      <th>match</th>\n",
       "    </tr>\n",
       "  </thead>\n",
       "  <tbody>\n",
       "    <tr>\n",
       "      <td>0</td>\n",
       "      <td>1</td>\n",
       "      <td>0</td>\n",
       "      <td>False</td>\n",
       "    </tr>\n",
       "    <tr>\n",
       "      <td>1</td>\n",
       "      <td>1</td>\n",
       "      <td>1</td>\n",
       "      <td>True</td>\n",
       "    </tr>\n",
       "    <tr>\n",
       "      <td>2</td>\n",
       "      <td>0</td>\n",
       "      <td>0</td>\n",
       "      <td>True</td>\n",
       "    </tr>\n",
       "    <tr>\n",
       "      <td>3</td>\n",
       "      <td>0</td>\n",
       "      <td>0</td>\n",
       "      <td>True</td>\n",
       "    </tr>\n",
       "    <tr>\n",
       "      <td>4</td>\n",
       "      <td>0</td>\n",
       "      <td>0</td>\n",
       "      <td>True</td>\n",
       "    </tr>\n",
       "  </tbody>\n",
       "</table>\n",
       "</div>"
      ],
      "text/plain": [
       "   Prediction  Actual  match\n",
       "0           1       0  False\n",
       "1           1       1   True\n",
       "2           0       0   True\n",
       "3           0       0   True\n",
       "4           0       0   True"
      ]
     },
     "execution_count": 32,
     "metadata": {},
     "output_type": "execute_result"
    }
   ],
   "source": [
    "results = pd.DataFrame({\"Prediction\":y_pred, \"Actual\":y_test}).reset_index(drop=True)\n",
    "results['match'] = results['Prediction'] == results['Actual']\n",
    "results.head()\n"
   ]
  },
  {
   "cell_type": "markdown",
   "metadata": {},
   "source": [
    "## Evaluating the Logistics Model"
   ]
  },
  {
   "cell_type": "markdown",
   "metadata": {},
   "source": [
    "### Null Accuracy"
   ]
  },
  {
   "cell_type": "code",
   "execution_count": 33,
   "metadata": {
    "ExecuteTime": {
     "end_time": "2020-07-23T14:24:06.585087Z",
     "start_time": "2020-07-23T14:24:06.447077Z"
    }
   },
   "outputs": [
    {
     "data": {
      "text/plain": [
       "1    718864\n",
       "0    718430\n",
       "Name: loan_status_n, dtype: int64"
      ]
     },
     "execution_count": 33,
     "metadata": {},
     "output_type": "execute_result"
    }
   ],
   "source": [
    "y_test.value_counts()"
   ]
  },
  {
   "cell_type": "code",
   "execution_count": 34,
   "metadata": {
    "ExecuteTime": {
     "end_time": "2020-07-23T14:24:18.314882Z",
     "start_time": "2020-07-23T14:24:18.201378Z"
    }
   },
   "outputs": [
    {
     "data": {
      "text/plain": [
       "0.5001509781575655"
      ]
     },
     "execution_count": 34,
     "metadata": {},
     "output_type": "execute_result"
    }
   ],
   "source": [
    "# calculate null accuracy (for binary classification problem coded as 0/1)\n",
    "# a dumb that always predicts that a loan is not bad, will be correct 50% of the time.\n",
    "# vs model accuracy of 55% Random Forrest does NOT look good\n",
    "\n",
    "max(y_test.mean(), 1 - y_test.mean())"
   ]
  },
  {
   "cell_type": "markdown",
   "metadata": {},
   "source": [
    "### Confusion Matrix"
   ]
  },
  {
   "cell_type": "code",
   "execution_count": 35,
   "metadata": {
    "ExecuteTime": {
     "end_time": "2020-07-23T14:24:31.466749Z",
     "start_time": "2020-07-23T14:24:29.875271Z"
    }
   },
   "outputs": [],
   "source": [
    "cnf_matrix = confusion_matrix(y_test, y_pred)\n",
    "np.set_printoptions(precision=2)"
   ]
  },
  {
   "cell_type": "markdown",
   "metadata": {},
   "source": [
    "## Results\n"
   ]
  },
  {
   "cell_type": "code",
   "execution_count": 36,
   "metadata": {
    "ExecuteTime": {
     "end_time": "2020-07-23T14:24:43.397173Z",
     "start_time": "2020-07-23T14:24:43.016173Z"
    }
   },
   "outputs": [
    {
     "data": {
      "text/plain": [
       "<Figure size 432x288 with 0 Axes>"
      ]
     },
     "execution_count": 36,
     "metadata": {},
     "output_type": "execute_result"
    },
    {
     "data": {
      "text/plain": [
       "<Figure size 432x288 with 0 Axes>"
      ]
     },
     "metadata": {},
     "output_type": "display_data"
    },
    {
     "data": {
      "image/png": "[encoded data removed]",
      "text/plain": [
       "<Figure size 396x288 with 2 Axes>"
      ]
     },
     "metadata": {
      "needs_background": "light"
     },
     "output_type": "display_data"
    }
   ],
   "source": [
    "plt.figure()\n",
    "plot_confusion_matrix(cnf_matrix, title='Logistic, not normalized, sample corrected')"
   ]
  },
  {
   "cell_type": "code",
   "execution_count": 37,
   "metadata": {
    "ExecuteTime": {
     "end_time": "2020-07-23T14:24:56.640643Z",
     "start_time": "2020-07-23T14:24:55.005671Z"
    }
   },
   "outputs": [
    {
     "name": "stdout",
     "output_type": "stream",
     "text": [
      "True Negatives:  496769 34.56279647726909\n",
      "False Positives:  221661 15.422105706974357\n",
      "False Negatives:  298377 20.759635815636884\n",
      "True Positives:  420487 29.25546200011967\n",
      "Accuracy 63.81825847738876\n",
      "Precision 0.65\n",
      "Recall 0.58\n",
      "F1 Score 0.62\n",
      "Specificity 0.69\n"
     ]
    }
   ],
   "source": [
    "get_confusion_stats(y_test,y_pred)"
   ]
  },
  {
   "cell_type": "markdown",
   "metadata": {},
   "source": [
    "## Kfold Stratified (logistics model, sub_grades)"
   ]
  },
  {
   "cell_type": "code",
   "execution_count": 38,
   "metadata": {
    "ExecuteTime": {
     "end_time": "2020-07-23T15:14:07.517768Z",
     "start_time": "2020-07-23T15:14:07.397772Z"
    }
   },
   "outputs": [
    {
     "data": {
      "text/plain": [
       "StratifiedKFold(n_splits=3, random_state=42, shuffle=False)"
      ]
     },
     "execution_count": 38,
     "metadata": {},
     "output_type": "execute_result"
    }
   ],
   "source": [
    "from sklearn.model_selection import StratifiedKFold\n",
    "skf = StratifiedKFold(n_splits=3, random_state=42)\n",
    "skf\n"
   ]
  },
  {
   "cell_type": "code",
   "execution_count": 39,
   "metadata": {
    "ExecuteTime": {
     "end_time": "2020-07-23T15:14:19.657281Z",
     "start_time": "2020-07-23T15:14:19.544285Z"
    }
   },
   "outputs": [
    {
     "data": {
      "text/plain": [
       "((2053276, 35), (2053276,))"
      ]
     },
     "execution_count": 39,
     "metadata": {},
     "output_type": "execute_result"
    }
   ],
   "source": [
    "X.shape, y.shape"
   ]
  },
  {
   "cell_type": "code",
   "execution_count": 40,
   "metadata": {
    "ExecuteTime": {
     "end_time": "2020-07-23T15:14:31.666255Z",
     "start_time": "2020-07-23T15:14:31.553259Z"
    }
   },
   "outputs": [
    {
     "data": {
      "text/plain": [
       "<generator object _BaseKFold.split at 0x000002059AA8F7C8>"
      ]
     },
     "execution_count": 40,
     "metadata": {},
     "output_type": "execute_result"
    }
   ],
   "source": [
    "skf.split(X,y)"
   ]
  },
  {
   "cell_type": "code",
   "execution_count": 41,
   "metadata": {
    "ExecuteTime": {
     "end_time": "2020-07-23T15:14:43.583202Z",
     "start_time": "2020-07-23T15:14:43.465207Z"
    }
   },
   "outputs": [
    {
     "data": {
      "text/plain": [
       "sub_grade_A1    0\n",
       "sub_grade_A2    0\n",
       "sub_grade_A3    0\n",
       "sub_grade_A4    0\n",
       "sub_grade_A5    0\n",
       "               ..\n",
       "sub_grade_G1    0\n",
       "sub_grade_G2    0\n",
       "sub_grade_G3    0\n",
       "sub_grade_G4    0\n",
       "sub_grade_G5    0\n",
       "Name: 92608, Length: 35, dtype: uint8"
      ]
     },
     "execution_count": 41,
     "metadata": {},
     "output_type": "execute_result"
    }
   ],
   "source": [
    "X.iloc[1965]"
   ]
  },
  {
   "cell_type": "code",
   "execution_count": 44,
   "metadata": {
    "ExecuteTime": {
     "end_time": "2020-07-23T15:19:07.262547Z",
     "start_time": "2020-07-23T15:18:47.202261Z"
    }
   },
   "outputs": [
    {
     "data": {
      "text/plain": [
       "5"
      ]
     },
     "execution_count": 44,
     "metadata": {},
     "output_type": "execute_result"
    },
    {
     "name": "stdout",
     "output_type": "stream",
     "text": [
      "Train [ 205287  205288  205289 ... 2053273 2053274 2053275] Validation: [      0       1       2 ... 1231798 1231799 1231800]\n"
     ]
    },
    {
     "name": "stderr",
     "output_type": "stream",
     "text": [
      "C:\\Users\\ppage\\Anaconda3\\envs\\TF\\lib\\site-packages\\sklearn\\linear_model\\logistic.py:432: FutureWarning: Default solver will be changed to 'lbfgs' in 0.22. Specify a solver to silence this warning.\n",
      "  FutureWarning)\n"
     ]
    },
    {
     "data": {
      "text/plain": [
       "LogisticRegression(C=1.0, class_weight=None, dual=False, fit_intercept=False,\n",
       "                   intercept_scaling=1, l1_ratio=None, max_iter=100,\n",
       "                   multi_class='warn', n_jobs=None, penalty='l2',\n",
       "                   random_state=None, solver='warn', tol=0.0001, verbose=0,\n",
       "                   warm_start=False)"
      ]
     },
     "execution_count": 44,
     "metadata": {},
     "output_type": "execute_result"
    },
    {
     "name": "stdout",
     "output_type": "stream",
     "text": [
      "Train [      0       1       2 ... 2053273 2053274 2053275] Validation: [ 205287  205288  205289 ... 1437167 1437168 1437169]\n"
     ]
    },
    {
     "name": "stderr",
     "output_type": "stream",
     "text": [
      "C:\\Users\\ppage\\Anaconda3\\envs\\TF\\lib\\site-packages\\sklearn\\linear_model\\logistic.py:432: FutureWarning: Default solver will be changed to 'lbfgs' in 0.22. Specify a solver to silence this warning.\n",
      "  FutureWarning)\n"
     ]
    },
    {
     "data": {
      "text/plain": [
       "LogisticRegression(C=1.0, class_weight=None, dual=False, fit_intercept=False,\n",
       "                   intercept_scaling=1, l1_ratio=None, max_iter=100,\n",
       "                   multi_class='warn', n_jobs=None, penalty='l2',\n",
       "                   random_state=None, solver='warn', tol=0.0001, verbose=0,\n",
       "                   warm_start=False)"
      ]
     },
     "execution_count": 44,
     "metadata": {},
     "output_type": "execute_result"
    },
    {
     "name": "stdout",
     "output_type": "stream",
     "text": [
      "Train [      0       1       2 ... 2053273 2053274 2053275] Validation: [ 410574  410575  410576 ... 1642536 1642537 1642538]\n"
     ]
    },
    {
     "name": "stderr",
     "output_type": "stream",
     "text": [
      "C:\\Users\\ppage\\Anaconda3\\envs\\TF\\lib\\site-packages\\sklearn\\linear_model\\logistic.py:432: FutureWarning: Default solver will be changed to 'lbfgs' in 0.22. Specify a solver to silence this warning.\n",
      "  FutureWarning)\n"
     ]
    },
    {
     "data": {
      "text/plain": [
       "LogisticRegression(C=1.0, class_weight=None, dual=False, fit_intercept=False,\n",
       "                   intercept_scaling=1, l1_ratio=None, max_iter=100,\n",
       "                   multi_class='warn', n_jobs=None, penalty='l2',\n",
       "                   random_state=None, solver='warn', tol=0.0001, verbose=0,\n",
       "                   warm_start=False)"
      ]
     },
     "execution_count": 44,
     "metadata": {},
     "output_type": "execute_result"
    },
    {
     "name": "stdout",
     "output_type": "stream",
     "text": [
      "Train [      0       1       2 ... 2053273 2053274 2053275] Validation: [ 615860  615861  615862 ... 1847905 1847906 1847907]\n"
     ]
    },
    {
     "name": "stderr",
     "output_type": "stream",
     "text": [
      "C:\\Users\\ppage\\Anaconda3\\envs\\TF\\lib\\site-packages\\sklearn\\linear_model\\logistic.py:432: FutureWarning: Default solver will be changed to 'lbfgs' in 0.22. Specify a solver to silence this warning.\n",
      "  FutureWarning)\n"
     ]
    },
    {
     "data": {
      "text/plain": [
       "LogisticRegression(C=1.0, class_weight=None, dual=False, fit_intercept=False,\n",
       "                   intercept_scaling=1, l1_ratio=None, max_iter=100,\n",
       "                   multi_class='warn', n_jobs=None, penalty='l2',\n",
       "                   random_state=None, solver='warn', tol=0.0001, verbose=0,\n",
       "                   warm_start=False)"
      ]
     },
     "execution_count": 44,
     "metadata": {},
     "output_type": "execute_result"
    },
    {
     "name": "stdout",
     "output_type": "stream",
     "text": [
      "Train [      0       1       2 ... 1847905 1847906 1847907] Validation: [ 821146  821147  821148 ... 2053273 2053274 2053275]\n"
     ]
    },
    {
     "name": "stderr",
     "output_type": "stream",
     "text": [
      "C:\\Users\\ppage\\Anaconda3\\envs\\TF\\lib\\site-packages\\sklearn\\linear_model\\logistic.py:432: FutureWarning: Default solver will be changed to 'lbfgs' in 0.22. Specify a solver to silence this warning.\n",
      "  FutureWarning)\n"
     ]
    },
    {
     "data": {
      "text/plain": [
       "LogisticRegression(C=1.0, class_weight=None, dual=False, fit_intercept=False,\n",
       "                   intercept_scaling=1, l1_ratio=None, max_iter=100,\n",
       "                   multi_class='warn', n_jobs=None, penalty='l2',\n",
       "                   random_state=None, solver='warn', tol=0.0001, verbose=0,\n",
       "                   warm_start=False)"
      ]
     },
     "execution_count": 44,
     "metadata": {},
     "output_type": "execute_result"
    },
    {
     "name": "stdout",
     "output_type": "stream",
     "text": [
      "[0.6471450557157329, 0.6515331567053689, 0.6289269581522202, 0.6365172711887107, 0.6267904367180156]\n"
     ]
    }
   ],
   "source": [
    "accuracy = []\n",
    "skf = StratifiedKFold(n_splits=5, random_state=None)\n",
    "skf.get_n_splits(X, y)\n",
    "# X is the featue set and y is the target\n",
    "for train_index, test_index in skf.split(X, y):\n",
    "    print(\"Train\", train_index, \"Validation:\", test_index)\n",
    "    X1_train, X1_test = X.iloc[train_index], X.iloc[test_index]\n",
    "    y1_train, y1_test = y.iloc[train_index], y.iloc[test_index]\n",
    "\n",
    "    model.fit(X1_train,y1_train)\n",
    "    y1_pred = model.predict(X1_test)\n",
    "    score = accuracy_score(y1_pred, y1_test)\n",
    "    accuracy.append(score)\n",
    "\n",
    "print(accuracy)"
   ]
  },
  {
   "cell_type": "code",
   "execution_count": 146,
   "metadata": {
    "ExecuteTime": {
     "end_time": "2020-07-23T16:26:28.388001Z",
     "start_time": "2020-07-23T16:26:28.270005Z"
    }
   },
   "outputs": [
    {
     "data": {
      "text/plain": [
       "0.6525297346559363"
      ]
     },
     "execution_count": 146,
     "metadata": {},
     "output_type": "execute_result"
    }
   ],
   "source": [
    "np.array(accuracy).mean()"
   ]
  },
  {
   "cell_type": "markdown",
   "metadata": {},
   "source": [
    "## Confustion Matrix (Kfold Stratified)"
   ]
  },
  {
   "cell_type": "code",
   "execution_count": 45,
   "metadata": {
    "ExecuteTime": {
     "end_time": "2020-07-23T15:19:19.543019Z",
     "start_time": "2020-07-23T15:19:19.008023Z"
    }
   },
   "outputs": [],
   "source": [
    "cnf_matrix = confusion_matrix(y1_test, y1_pred)#y_pred_tree\n",
    "np.set_printoptions(precision=2)"
   ]
  },
  {
   "cell_type": "code",
   "execution_count": 46,
   "metadata": {
    "ExecuteTime": {
     "end_time": "2020-07-23T15:19:31.516775Z",
     "start_time": "2020-07-23T15:19:31.234772Z"
    }
   },
   "outputs": [
    {
     "data": {
      "text/plain": [
       "<Figure size 432x288 with 0 Axes>"
      ]
     },
     "execution_count": 46,
     "metadata": {},
     "output_type": "execute_result"
    },
    {
     "data": {
      "text/plain": [
       "<Figure size 432x288 with 0 Axes>"
      ]
     },
     "metadata": {},
     "output_type": "display_data"
    },
    {
     "data": {
      "image/png": "[encoded data removed]",
      "text/plain": [
       "<Figure size 396x288 with 2 Axes>"
      ]
     },
     "metadata": {
      "needs_background": "light"
     },
     "output_type": "display_data"
    }
   ],
   "source": [
    "plt.figure()\n",
    "plot_confusion_matrix(\n",
    "    cnf_matrix, title='logistics, not normalized, KFold Stratified, mitigated (subgrade)')"
   ]
  },
  {
   "cell_type": "markdown",
   "metadata": {},
   "source": [
    "## Conclusions and Next Steps\n",
    "* Precision - Too low for the industry, we have to try to minimize the False Positives.  When a positive is predicated, how often is prediction correct? TP / TP + FP\n",
    "\n",
    "* Recall (aka sensitivity)- The raw count is good so this should correlate. When athe actual value is positvied, how often is the prediction correct? TP / TP + FN\n",
    "\n",
    "* Specificity - highlights a weakness for type of industry, too many False Positives (type 1 error), affecting the score Even for P2P type loans. When the actual value is negative, how often is the prediction correct?  tn/(tn+fp)\n",
    "\n",
    "* A accuracy is .13 better than a coin toss\n",
    "\n",
    "* Peformed a CrossValidation Kfold Stratified for further evaluation. Average Accuracy with 5 experiments was . \n",
    "\n",
    "* Try some different features and models\n",
    "\n"
   ]
  },
  {
   "cell_type": "markdown",
   "metadata": {},
   "source": [
    "# Logistics Model (subgrades) w/out sample mitigation"
   ]
  },
  {
   "cell_type": "code",
   "execution_count": 51,
   "metadata": {
    "ExecuteTime": {
     "end_time": "2020-07-23T15:26:55.994170Z",
     "start_time": "2020-07-23T15:26:55.793176Z"
    }
   },
   "outputs": [],
   "source": [
    "# Set features. This will also be used as your x values.\n",
    "# x values will be the dscr calculated result, interest rate, amount funded, employment length\n",
    "selected_features = data[['sub_grade_A1', 'sub_grade_A2',\n",
    "       'sub_grade_A3', 'sub_grade_A4', 'sub_grade_A5', 'sub_grade_B1',\n",
    "       'sub_grade_B2', 'sub_grade_B3', 'sub_grade_B4', 'sub_grade_B5',\n",
    "       'sub_grade_C1', 'sub_grade_C2', 'sub_grade_C3', 'sub_grade_C4',\n",
    "       'sub_grade_C5', 'sub_grade_D1', 'sub_grade_D2', 'sub_grade_D3',\n",
    "       'sub_grade_D4', 'sub_grade_D5', 'sub_grade_E1', 'sub_grade_E2',\n",
    "       'sub_grade_E3', 'sub_grade_E4', 'sub_grade_E5', 'sub_grade_F1',\n",
    "       'sub_grade_F2', 'sub_grade_F3', 'sub_grade_F4', 'sub_grade_F5',\n",
    "       'sub_grade_G1', 'sub_grade_G2', 'sub_grade_G3', 'sub_grade_G4',\n",
    "       'sub_grade_G5', 'loan_status_n']]"
   ]
  },
  {
   "cell_type": "code",
   "execution_count": 52,
   "metadata": {
    "ExecuteTime": {
     "end_time": "2020-07-23T15:27:07.922540Z",
     "start_time": "2020-07-23T15:27:07.784534Z"
    }
   },
   "outputs": [
    {
     "data": {
      "text/plain": [
       "1    1026432\n",
       "0     256711\n",
       "Name: loan_status_n, dtype: int64"
      ]
     },
     "execution_count": 52,
     "metadata": {},
     "output_type": "execute_result"
    }
   ],
   "source": [
    "selected_features['loan_status_n'].value_counts()"
   ]
  },
  {
   "cell_type": "code",
   "execution_count": 53,
   "metadata": {
    "ExecuteTime": {
     "end_time": "2020-07-23T15:29:49.607434Z",
     "start_time": "2020-07-23T15:29:49.417415Z"
    }
   },
   "outputs": [],
   "source": [
    "X = selected_features.drop(\"loan_status_n\", axis=1)\n",
    "y = selected_features['loan_status_n']"
   ]
  },
  {
   "cell_type": "code",
   "execution_count": 54,
   "metadata": {
    "ExecuteTime": {
     "end_time": "2020-07-23T15:30:02.136943Z",
     "start_time": "2020-07-23T15:30:02.014946Z"
    }
   },
   "outputs": [
    {
     "data": {
      "text/plain": [
       "LogisticRegression(C=1.0, class_weight=None, dual=False, fit_intercept=False,\n",
       "                   intercept_scaling=1, l1_ratio=None, max_iter=100,\n",
       "                   multi_class='warn', n_jobs=None, penalty='l2',\n",
       "                   random_state=None, solver='warn', tol=0.0001, verbose=0,\n",
       "                   warm_start=False)"
      ]
     },
     "execution_count": 54,
     "metadata": {},
     "output_type": "execute_result"
    }
   ],
   "source": [
    "from sklearn.linear_model import LogisticRegression\n",
    "model = LogisticRegression(fit_intercept=False)\n",
    "model"
   ]
  },
  {
   "cell_type": "code",
   "execution_count": 55,
   "metadata": {
    "ExecuteTime": {
     "end_time": "2020-07-23T15:30:14.718317Z",
     "start_time": "2020-07-23T15:30:14.250826Z"
    }
   },
   "outputs": [
    {
     "name": "stdout",
     "output_type": "stream",
     "text": [
      "number of training samples:  384942\n",
      "number of test samples:  898201\n"
     ]
    }
   ],
   "source": [
    "from sklearn.model_selection import train_test_split\n",
    "\n",
    "X_train, X_test, y_train, y_test = train_test_split(X, y, test_size=0.7, random_state=0)\n",
    "\n",
    "print (\"number of training samples: \", len(X_train))\n",
    "print (\"number of test samples: \", len(y_test))"
   ]
  },
  {
   "cell_type": "code",
   "execution_count": 56,
   "metadata": {
    "ExecuteTime": {
     "end_time": "2020-07-23T15:30:27.897172Z",
     "start_time": "2020-07-23T15:30:26.943203Z"
    }
   },
   "outputs": [
    {
     "name": "stderr",
     "output_type": "stream",
     "text": [
      "C:\\Users\\ppage\\Anaconda3\\envs\\TF\\lib\\site-packages\\sklearn\\linear_model\\logistic.py:432: FutureWarning: Default solver will be changed to 'lbfgs' in 0.22. Specify a solver to silence this warning.\n",
      "  FutureWarning)\n"
     ]
    },
    {
     "data": {
      "text/plain": [
       "LogisticRegression(C=1.0, class_weight=None, dual=False, fit_intercept=False,\n",
       "                   intercept_scaling=1, l1_ratio=None, max_iter=100,\n",
       "                   multi_class='warn', n_jobs=None, penalty='l2',\n",
       "                   random_state=None, solver='warn', tol=0.0001, verbose=0,\n",
       "                   warm_start=False)"
      ]
     },
     "execution_count": 56,
     "metadata": {},
     "output_type": "execute_result"
    }
   ],
   "source": [
    "model.fit(X_train,y_train)"
   ]
  },
  {
   "cell_type": "code",
   "execution_count": 57,
   "metadata": {
    "ExecuteTime": {
     "end_time": "2020-07-23T15:30:40.613112Z",
     "start_time": "2020-07-23T15:30:40.098116Z"
    }
   },
   "outputs": [
    {
     "name": "stdout",
     "output_type": "stream",
     "text": [
      "Training Accuracy: 80.00711795543225\n",
      "Testing Accuracy: 80.00180360520642\n"
     ]
    }
   ],
   "source": [
    "print(f\"Training Accuracy: {model.score(X_train, y_train)*100}\")\n",
    "print(f\"Testing Accuracy: {model.score(X_test, y_test)*100}\")"
   ]
  },
  {
   "cell_type": "code",
   "execution_count": 58,
   "metadata": {
    "ExecuteTime": {
     "end_time": "2020-07-23T15:30:53.338117Z",
     "start_time": "2020-07-23T15:30:53.048127Z"
    }
   },
   "outputs": [],
   "source": [
    "y_pred = model.predict(X_test)"
   ]
  },
  {
   "cell_type": "code",
   "execution_count": 59,
   "metadata": {
    "ExecuteTime": {
     "end_time": "2020-07-23T15:31:05.436943Z",
     "start_time": "2020-07-23T15:31:05.303947Z"
    }
   },
   "outputs": [
    {
     "data": {
      "text/html": [
       "<div>\n",
       "<style scoped>\n",
       "    .dataframe tbody tr th:only-of-type {\n",
       "        vertical-align: middle;\n",
       "    }\n",
       "\n",
       "    .dataframe tbody tr th {\n",
       "        vertical-align: top;\n",
       "    }\n",
       "\n",
       "    .dataframe thead th {\n",
       "        text-align: right;\n",
       "    }\n",
       "</style>\n",
       "<table border=\"1\" class=\"dataframe\">\n",
       "  <thead>\n",
       "    <tr style=\"text-align: right;\">\n",
       "      <th></th>\n",
       "      <th>Prediction</th>\n",
       "      <th>Actual</th>\n",
       "      <th>match</th>\n",
       "    </tr>\n",
       "  </thead>\n",
       "  <tbody>\n",
       "    <tr>\n",
       "      <td>0</td>\n",
       "      <td>1</td>\n",
       "      <td>1</td>\n",
       "      <td>True</td>\n",
       "    </tr>\n",
       "    <tr>\n",
       "      <td>1</td>\n",
       "      <td>1</td>\n",
       "      <td>0</td>\n",
       "      <td>False</td>\n",
       "    </tr>\n",
       "    <tr>\n",
       "      <td>2</td>\n",
       "      <td>1</td>\n",
       "      <td>1</td>\n",
       "      <td>True</td>\n",
       "    </tr>\n",
       "    <tr>\n",
       "      <td>3</td>\n",
       "      <td>1</td>\n",
       "      <td>1</td>\n",
       "      <td>True</td>\n",
       "    </tr>\n",
       "    <tr>\n",
       "      <td>4</td>\n",
       "      <td>1</td>\n",
       "      <td>1</td>\n",
       "      <td>True</td>\n",
       "    </tr>\n",
       "  </tbody>\n",
       "</table>\n",
       "</div>"
      ],
      "text/plain": [
       "   Prediction  Actual  match\n",
       "0           1       1   True\n",
       "1           1       0  False\n",
       "2           1       1   True\n",
       "3           1       1   True\n",
       "4           1       1   True"
      ]
     },
     "execution_count": 59,
     "metadata": {},
     "output_type": "execute_result"
    }
   ],
   "source": [
    "results = pd.DataFrame({\"Prediction\":y_pred, \"Actual\":y_test}).reset_index(drop=True)\n",
    "results['match'] = results['Prediction'] == results['Actual']\n",
    "results.head()\n"
   ]
  },
  {
   "cell_type": "code",
   "execution_count": 60,
   "metadata": {
    "ExecuteTime": {
     "end_time": "2020-07-23T15:31:18.782854Z",
     "start_time": "2020-07-23T15:31:17.693838Z"
    }
   },
   "outputs": [],
   "source": [
    "cnf_matrix = confusion_matrix(y_test, y_pred)#y_pred_tree\n",
    "np.set_printoptions(precision=2)\n"
   ]
  },
  {
   "cell_type": "code",
   "execution_count": 62,
   "metadata": {
    "ExecuteTime": {
     "end_time": "2020-07-23T15:31:43.700659Z",
     "start_time": "2020-07-23T15:31:43.419656Z"
    }
   },
   "outputs": [
    {
     "data": {
      "text/plain": [
       "<Figure size 432x288 with 0 Axes>"
      ]
     },
     "execution_count": 62,
     "metadata": {},
     "output_type": "execute_result"
    },
    {
     "data": {
      "text/plain": [
       "<Figure size 432x288 with 0 Axes>"
      ]
     },
     "metadata": {},
     "output_type": "display_data"
    },
    {
     "data": {
      "image/png": "[encoded data removed]",
      "text/plain": [
       "<Figure size 396x288 with 2 Axes>"
      ]
     },
     "metadata": {
      "needs_background": "light"
     },
     "output_type": "display_data"
    }
   ],
   "source": [
    "plt.figure()\n",
    "plot_confusion_matrix(cnf_matrix, title='Logistic, not normalized, orginal sample')"
   ]
  },
  {
   "cell_type": "code",
   "execution_count": 63,
   "metadata": {
    "ExecuteTime": {
     "end_time": "2020-07-23T15:31:56.959587Z",
     "start_time": "2020-07-23T15:31:55.912077Z"
    }
   },
   "outputs": [
    {
     "name": "stdout",
     "output_type": "stream",
     "text": [
      "True Negatives:  1403 0.15620111756722604\n",
      "False Positives:  178288 19.84945463209237\n",
      "False Negatives:  1336 0.14874176270122166\n",
      "True Positives:  717174 79.84560248763918\n",
      "Accuracy 80.0018036052064\n",
      "Precision 0.80\n",
      "Recall 1.00\n",
      "F1 Score 0.89\n",
      "Specificity 0.01\n"
     ]
    }
   ],
   "source": [
    "get_confusion_stats(y_test,y_pred)"
   ]
  },
  {
   "cell_type": "markdown",
   "metadata": {},
   "source": [
    "# XG Boost (sample mitigated, subgrade)"
   ]
  },
  {
   "cell_type": "code",
   "execution_count": 67,
   "metadata": {
    "ExecuteTime": {
     "end_time": "2020-07-23T15:54:22.878768Z",
     "start_time": "2020-07-23T15:54:22.761772Z"
    }
   },
   "outputs": [],
   "source": [
    "#conda install -c anaconda py-xgboost\n",
    "import xgboost as xgb\n",
    "from xgboost import XGBClassifier\n",
    "from sklearn.metrics import mean_squared_error"
   ]
  },
  {
   "cell_type": "code",
   "execution_count": 68,
   "metadata": {
    "ExecuteTime": {
     "end_time": "2020-07-23T15:54:35.228543Z",
     "start_time": "2020-07-23T15:54:35.116547Z"
    }
   },
   "outputs": [],
   "source": [
    "# define model\n",
    "model = XGBClassifier()"
   ]
  },
  {
   "cell_type": "code",
   "execution_count": 81,
   "metadata": {
    "ExecuteTime": {
     "end_time": "2020-07-23T16:00:31.357282Z",
     "start_time": "2020-07-23T16:00:31.124250Z"
    }
   },
   "outputs": [],
   "source": [
    "# Set features. This will also be used as your x values.\n",
    "# x values will be the dscr calculated result, interest rate, amount funded, employment length\n",
    "selected_features = combined_sample[['sub_grade_A1', 'sub_grade_A2',\n",
    "       'sub_grade_A3', 'sub_grade_A4', 'sub_grade_A5', 'sub_grade_B1',\n",
    "       'sub_grade_B2', 'sub_grade_B3', 'sub_grade_B4', 'sub_grade_B5',\n",
    "       'sub_grade_C1', 'sub_grade_C2', 'sub_grade_C3', 'sub_grade_C4',\n",
    "       'sub_grade_C5', 'sub_grade_D1', 'sub_grade_D2', 'sub_grade_D3',\n",
    "       'sub_grade_D4', 'sub_grade_D5', 'sub_grade_E1', 'sub_grade_E2',\n",
    "       'sub_grade_E3', 'sub_grade_E4', 'sub_grade_E5', 'sub_grade_F1',\n",
    "       'sub_grade_F2', 'sub_grade_F3', 'sub_grade_F4', 'sub_grade_F5',\n",
    "       'sub_grade_G1', 'sub_grade_G2', 'sub_grade_G3', 'sub_grade_G4',\n",
    "       'sub_grade_G5']]"
   ]
  },
  {
   "cell_type": "code",
   "execution_count": 82,
   "metadata": {
    "ExecuteTime": {
     "end_time": "2020-07-23T16:00:44.253777Z",
     "start_time": "2020-07-23T16:00:44.135750Z"
    }
   },
   "outputs": [],
   "source": [
    "target = combined_sample['loan_status_n']"
   ]
  },
  {
   "cell_type": "code",
   "execution_count": 83,
   "metadata": {
    "ExecuteTime": {
     "end_time": "2020-07-23T16:00:57.419761Z",
     "start_time": "2020-07-23T16:00:57.270767Z"
    }
   },
   "outputs": [],
   "source": [
    "X,y = selected_features,target"
   ]
  },
  {
   "cell_type": "code",
   "execution_count": 84,
   "metadata": {
    "ExecuteTime": {
     "end_time": "2020-07-23T16:01:06.287063Z",
     "start_time": "2020-07-23T16:01:03.875423Z"
    }
   },
   "outputs": [
    {
     "name": "stderr",
     "output_type": "stream",
     "text": [
      "C:\\Users\\ppage\\Anaconda3\\envs\\TF\\lib\\site-packages\\xgboost\\core.py:587: FutureWarning: Series.base is deprecated and will be removed in a future version\n",
      "  if getattr(data, 'base', None) is not None and \\\n",
      "C:\\Users\\ppage\\Anaconda3\\envs\\TF\\lib\\site-packages\\xgboost\\core.py:588: FutureWarning: Series.base is deprecated and will be removed in a future version\n",
      "  data.base is not None and isinstance(data, np.ndarray) \\\n"
     ]
    }
   ],
   "source": [
    "data_dmatrix = xgb.DMatrix(data=X,label=y)"
   ]
  },
  {
   "cell_type": "code",
   "execution_count": 85,
   "metadata": {
    "ExecuteTime": {
     "end_time": "2020-07-23T16:01:20.571728Z",
     "start_time": "2020-07-23T16:01:19.704718Z"
    }
   },
   "outputs": [
    {
     "name": "stdout",
     "output_type": "stream",
     "text": [
      "number of training samples:  1642620\n",
      "number of test samples:  410656\n"
     ]
    }
   ],
   "source": [
    "from sklearn.model_selection import train_test_split\n",
    "\n",
    "X_train, X_test, y_train, y_test = train_test_split(X, y, test_size=0.2, random_state=123)\n",
    "\n",
    "print (\"number of training samples: \", len(X_train))\n",
    "print (\"number of test samples: \", len(y_test))"
   ]
  },
  {
   "cell_type": "code",
   "execution_count": 86,
   "metadata": {
    "ExecuteTime": {
     "end_time": "2020-07-23T16:01:40.422154Z",
     "start_time": "2020-07-23T16:01:40.285166Z"
    }
   },
   "outputs": [
    {
     "data": {
      "text/plain": [
       "0    205754\n",
       "1    204902\n",
       "Name: loan_status_n, dtype: int64"
      ]
     },
     "execution_count": 86,
     "metadata": {},
     "output_type": "execute_result"
    }
   ],
   "source": [
    "y_test.value_counts()"
   ]
  },
  {
   "cell_type": "code",
   "execution_count": 87,
   "metadata": {
    "ExecuteTime": {
     "end_time": "2020-07-23T16:01:53.482768Z",
     "start_time": "2020-07-23T16:01:53.370585Z"
    }
   },
   "outputs": [],
   "source": [
    "xg_reg = xgb.XGBClassifier(objective ='reg:logistic', colsample_bytree = 0.3, learning_rate = 0.1,\n",
    "                max_depth = 5, alpha = 10, n_estimators = 10) #scale_pos_weight' = sum_wneg/sum_wpos"
   ]
  },
  {
   "cell_type": "code",
   "execution_count": 88,
   "metadata": {
    "ExecuteTime": {
     "end_time": "2020-07-23T16:02:22.710347Z",
     "start_time": "2020-07-23T16:02:06.457998Z"
    }
   },
   "outputs": [
    {
     "data": {
      "text/plain": [
       "XGBClassifier(alpha=10, base_score=0.5, booster='gbtree', colsample_bylevel=1,\n",
       "              colsample_bynode=1, colsample_bytree=0.3, gamma=0,\n",
       "              learning_rate=0.1, max_delta_step=0, max_depth=5,\n",
       "              min_child_weight=1, missing=None, n_estimators=10, n_jobs=1,\n",
       "              nthread=None, objective='reg:logistic', random_state=0,\n",
       "              reg_alpha=0, reg_lambda=1, scale_pos_weight=1, seed=None,\n",
       "              silent=None, subsample=1, verbosity=1)"
      ]
     },
     "execution_count": 88,
     "metadata": {},
     "output_type": "execute_result"
    }
   ],
   "source": [
    "xg_reg.fit(X_train,y_train)\n",
    "\n",
    "y_pred = xg_reg.predict(X_test)"
   ]
  },
  {
   "cell_type": "code",
   "execution_count": 89,
   "metadata": {
    "ExecuteTime": {
     "end_time": "2020-07-23T16:02:22.833384Z",
     "start_time": "2020-07-23T16:02:22.712347Z"
    }
   },
   "outputs": [
    {
     "name": "stdout",
     "output_type": "stream",
     "text": [
      "RMSE: 0.607726\n"
     ]
    }
   ],
   "source": [
    "rmse = np.sqrt(mean_squared_error(y_test, y_pred))\n",
    "print(\"RMSE: %f\" % (rmse))"
   ]
  },
  {
   "cell_type": "markdown",
   "metadata": {},
   "source": [
    "## Confusion Matrix"
   ]
  },
  {
   "cell_type": "code",
   "execution_count": 90,
   "metadata": {
    "ExecuteTime": {
     "end_time": "2020-07-23T16:02:49.170317Z",
     "start_time": "2020-07-23T16:02:48.565320Z"
    }
   },
   "outputs": [],
   "source": [
    "cnf_matrix = confusion_matrix(y_test, y_pred)#y_pred_tree\n",
    "np.set_printoptions(precision=2)"
   ]
  },
  {
   "cell_type": "code",
   "execution_count": 91,
   "metadata": {
    "ExecuteTime": {
     "end_time": "2020-07-23T16:03:02.318695Z",
     "start_time": "2020-07-23T16:03:02.018671Z"
    }
   },
   "outputs": [
    {
     "data": {
      "text/plain": [
       "<Figure size 432x288 with 0 Axes>"
      ]
     },
     "execution_count": 91,
     "metadata": {},
     "output_type": "execute_result"
    },
    {
     "data": {
      "text/plain": [
       "<Figure size 432x288 with 0 Axes>"
      ]
     },
     "metadata": {},
     "output_type": "display_data"
    },
    {
     "data": {
      "image/png": "[encoded data removed]",
      "text/plain": [
       "<Figure size 396x288 with 2 Axes>"
      ]
     },
     "metadata": {
      "needs_background": "light"
     },
     "output_type": "display_data"
    }
   ],
   "source": [
    "plt.figure()\n",
    "plot_confusion_matrix(cnf_matrix, title='XGBoost, not-normalized, sample corrected, (subgrade)')"
   ]
  },
  {
   "cell_type": "code",
   "execution_count": 92,
   "metadata": {
    "ExecuteTime": {
     "end_time": "2020-07-23T16:03:15.996679Z",
     "start_time": "2020-07-23T16:03:15.398647Z"
    },
    "scrolled": true
   },
   "outputs": [
    {
     "name": "stdout",
     "output_type": "stream",
     "text": [
      "True Negatives:  165336 40.26143536195745\n",
      "False Positives:  40418 9.842301098729838\n",
      "False Negatives:  111250 27.090801059767788\n",
      "True Positives:  93652 22.805462479544925\n",
      "Accuracy 63.066897841502374\n",
      "Precision 0.70\n",
      "Recall 0.46\n",
      "F1 Score 0.55\n",
      "Specificity 0.80\n"
     ]
    }
   ],
   "source": [
    "get_confusion_stats(y_test,y_pred)"
   ]
  },
  {
   "cell_type": "markdown",
   "metadata": {},
   "source": [
    "# XG Boost (weighted, dti int_rate,emp_length)"
   ]
  },
  {
   "cell_type": "code",
   "execution_count": 151,
   "metadata": {
    "ExecuteTime": {
     "end_time": "2020-07-23T16:48:15.414276Z",
     "start_time": "2020-07-23T16:48:15.220092Z"
    }
   },
   "outputs": [],
   "source": [
    "#conda install -c anaconda py-xgboost\n",
    "import xgboost as xgb\n",
    "from xgboost import XGBClassifier\n",
    "from sklearn.metrics import mean_squared_error"
   ]
  },
  {
   "cell_type": "code",
   "execution_count": 152,
   "metadata": {
    "ExecuteTime": {
     "end_time": "2020-07-23T16:48:21.776097Z",
     "start_time": "2020-07-23T16:48:21.664100Z"
    }
   },
   "outputs": [],
   "source": [
    "# define model\n",
    "model = XGBClassifier()"
   ]
  },
  {
   "cell_type": "code",
   "execution_count": 153,
   "metadata": {
    "ExecuteTime": {
     "end_time": "2020-07-23T16:48:21.910107Z",
     "start_time": "2020-07-23T16:48:21.778097Z"
    }
   },
   "outputs": [],
   "source": [
    "# Set features. This will also be used as your x values.\n",
    "# x values will be the dscr calculated result, interest rate, amount funded, employment length\n",
    "selected_features = data[['dti','int_rate','emp_length']]\n",
    "# selected_features = data[['sub_grade_A1', 'sub_grade_A2',\n",
    "#        'sub_grade_A3', 'sub_grade_A4', 'sub_grade_A5', 'sub_grade_B1',\n",
    "#        'sub_grade_B2', 'sub_grade_B3', 'sub_grade_B4', 'sub_grade_B5',\n",
    "#        'sub_grade_C1', 'sub_grade_C2', 'sub_grade_C3', 'sub_grade_C4',\n",
    "#        'sub_grade_C5', 'sub_grade_D1', 'sub_grade_D2', 'sub_grade_D3',\n",
    "#        'sub_grade_D4', 'sub_grade_D5', 'sub_grade_E1', 'sub_grade_E2',\n",
    "#        'sub_grade_E3', 'sub_grade_E4', 'sub_grade_E5', 'sub_grade_F1',\n",
    "#        'sub_grade_F2', 'sub_grade_F3', 'sub_grade_F4', 'sub_grade_F5',\n",
    "#        'sub_grade_G1', 'sub_grade_G2', 'sub_grade_G3', 'sub_grade_G4',\n",
    "#        'sub_grade_G5']]"
   ]
  },
  {
   "cell_type": "code",
   "execution_count": 154,
   "metadata": {
    "ExecuteTime": {
     "end_time": "2020-07-23T16:48:22.024104Z",
     "start_time": "2020-07-23T16:48:21.912108Z"
    }
   },
   "outputs": [],
   "source": [
    "target = data['loan_status_n']"
   ]
  },
  {
   "cell_type": "code",
   "execution_count": 155,
   "metadata": {
    "ExecuteTime": {
     "end_time": "2020-07-23T16:48:28.188110Z",
     "start_time": "2020-07-23T16:48:28.053116Z"
    }
   },
   "outputs": [],
   "source": [
    "X,y = selected_features,target"
   ]
  },
  {
   "cell_type": "code",
   "execution_count": 156,
   "metadata": {
    "ExecuteTime": {
     "end_time": "2020-07-23T16:48:41.411969Z",
     "start_time": "2020-07-23T16:48:40.736974Z"
    }
   },
   "outputs": [
    {
     "name": "stderr",
     "output_type": "stream",
     "text": [
      "C:\\Users\\ppage\\Anaconda3\\envs\\TF\\lib\\site-packages\\xgboost\\core.py:587: FutureWarning: Series.base is deprecated and will be removed in a future version\n",
      "  if getattr(data, 'base', None) is not None and \\\n",
      "C:\\Users\\ppage\\Anaconda3\\envs\\TF\\lib\\site-packages\\xgboost\\core.py:588: FutureWarning: Series.base is deprecated and will be removed in a future version\n",
      "  data.base is not None and isinstance(data, np.ndarray) \\\n"
     ]
    }
   ],
   "source": [
    "data_dmatrix = xgb.DMatrix(data=X,label=y)"
   ]
  },
  {
   "cell_type": "code",
   "execution_count": 157,
   "metadata": {
    "ExecuteTime": {
     "end_time": "2020-07-23T16:49:07.209049Z",
     "start_time": "2020-07-23T16:49:06.883034Z"
    }
   },
   "outputs": [
    {
     "name": "stdout",
     "output_type": "stream",
     "text": [
      "number of training samples:  1026514\n",
      "number of test samples:  256629\n"
     ]
    }
   ],
   "source": [
    "from sklearn.model_selection import train_test_split\n",
    "\n",
    "X_train, X_test, y_train, y_test = train_test_split(X, y, test_size=0.2, random_state=123)\n",
    "\n",
    "print (\"number of training samples: \", len(X_train))\n",
    "print (\"number of test samples: \", len(y_test))"
   ]
  },
  {
   "cell_type": "code",
   "execution_count": 158,
   "metadata": {
    "ExecuteTime": {
     "end_time": "2020-07-23T16:49:07.341058Z",
     "start_time": "2020-07-23T16:49:07.211046Z"
    }
   },
   "outputs": [
    {
     "data": {
      "text/plain": [
       "1    205360\n",
       "0     51269\n",
       "Name: loan_status_n, dtype: int64"
      ]
     },
     "execution_count": 158,
     "metadata": {},
     "output_type": "execute_result"
    }
   ],
   "source": [
    "y_test.value_counts()"
   ]
  },
  {
   "cell_type": "code",
   "execution_count": 159,
   "metadata": {
    "ExecuteTime": {
     "end_time": "2020-07-23T16:49:07.489053Z",
     "start_time": "2020-07-23T16:49:07.343058Z"
    }
   },
   "outputs": [],
   "source": [
    "#set  parameters for XGBClassifer\n",
    "xg_reg = xgb.XGBClassifier(objective ='reg:logistic', colsample_bytree = 0.3, learning_rate = 0.1,\n",
    "                max_depth = 5, alpha = 10, n_estimators = 10, scale_pos_weight = .29, max_delta_step = 1)"
   ]
  },
  {
   "cell_type": "code",
   "execution_count": 160,
   "metadata": {
    "ExecuteTime": {
     "end_time": "2020-07-23T16:49:15.868897Z",
     "start_time": "2020-07-23T16:49:11.684005Z"
    }
   },
   "outputs": [
    {
     "data": {
      "text/plain": [
       "XGBClassifier(alpha=10, base_score=0.5, booster='gbtree', colsample_bylevel=1,\n",
       "              colsample_bynode=1, colsample_bytree=0.3, gamma=0,\n",
       "              learning_rate=0.1, max_delta_step=1, max_depth=5,\n",
       "              min_child_weight=1, missing=None, n_estimators=10, n_jobs=1,\n",
       "              nthread=None, objective='reg:logistic', random_state=0,\n",
       "              reg_alpha=0, reg_lambda=1, scale_pos_weight=0.29, seed=None,\n",
       "              silent=None, subsample=1, verbosity=1)"
      ]
     },
     "execution_count": 160,
     "metadata": {},
     "output_type": "execute_result"
    }
   ],
   "source": [
    "xg_reg.fit(X_train,y_train)\n",
    "\n",
    "y_pred = xg_reg.predict(X_test)"
   ]
  },
  {
   "cell_type": "code",
   "execution_count": 161,
   "metadata": {
    "ExecuteTime": {
     "end_time": "2020-07-23T16:49:16.001915Z",
     "start_time": "2020-07-23T16:49:15.870897Z"
    }
   },
   "outputs": [
    {
     "name": "stdout",
     "output_type": "stream",
     "text": [
      "RMSE: 0.525751\n"
     ]
    }
   ],
   "source": [
    "rmse = np.sqrt(mean_squared_error(y_test, y_pred))\n",
    "print(\"RMSE: %f\" % (rmse))"
   ]
  },
  {
   "cell_type": "markdown",
   "metadata": {},
   "source": [
    "## Confusion Matrix"
   ]
  },
  {
   "cell_type": "code",
   "execution_count": 162,
   "metadata": {
    "ExecuteTime": {
     "end_time": "2020-07-23T16:49:31.122353Z",
     "start_time": "2020-07-23T16:49:30.646190Z"
    }
   },
   "outputs": [],
   "source": [
    "cnf_matrix = confusion_matrix(y_test, y_pred)#y_pred_tree\n",
    "np.set_printoptions(precision=2)"
   ]
  },
  {
   "cell_type": "code",
   "execution_count": 163,
   "metadata": {
    "ExecuteTime": {
     "end_time": "2020-07-23T16:49:31.464698Z",
     "start_time": "2020-07-23T16:49:31.124360Z"
    }
   },
   "outputs": [
    {
     "data": {
      "text/plain": [
       "<Figure size 432x288 with 0 Axes>"
      ]
     },
     "execution_count": 163,
     "metadata": {},
     "output_type": "execute_result"
    },
    {
     "data": {
      "text/plain": [
       "<Figure size 432x288 with 0 Axes>"
      ]
     },
     "metadata": {},
     "output_type": "display_data"
    },
    {
     "data": {
      "image/png": "[encoded data removed]",
      "text/plain": [
       "<Figure size 396x288 with 2 Axes>"
      ]
     },
     "metadata": {
      "needs_background": "light"
     },
     "output_type": "display_data"
    }
   ],
   "source": [
    "plt.figure()\n",
    "plot_confusion_matrix(cnf_matrix, title='XGBoost, not-normalized, sample corrected, (dti, int_rate,employment)')"
   ]
  },
  {
   "cell_type": "code",
   "execution_count": 164,
   "metadata": {
    "ExecuteTime": {
     "end_time": "2020-07-23T16:50:11.631769Z",
     "start_time": "2020-07-23T16:50:11.219261Z"
    },
    "scrolled": true
   },
   "outputs": [
    {
     "name": "stdout",
     "output_type": "stream",
     "text": [
      "True Negatives:  17117 6.66993987429324\n",
      "False Positives:  34152 13.307927007469928\n",
      "False Negatives:  36784 14.333532063796376\n",
      "True Positives:  168576 65.68860105444045\n",
      "Accuracy 72.3585409287337\n",
      "Precision 0.83\n",
      "Recall 0.82\n",
      "F1 Score 0.83\n",
      "Specificity 0.33\n"
     ]
    }
   ],
   "source": [
    "get_confusion_stats(y_test,y_pred)"
   ]
  },
  {
   "cell_type": "markdown",
   "metadata": {},
   "source": [
    "## Kfold Stratified"
   ]
  },
  {
   "cell_type": "code",
   "execution_count": 165,
   "metadata": {
    "ExecuteTime": {
     "end_time": "2020-07-23T16:51:22.232888Z",
     "start_time": "2020-07-23T16:51:22.105892Z"
    }
   },
   "outputs": [
    {
     "data": {
      "text/plain": [
       "StratifiedKFold(n_splits=3, random_state=42, shuffle=False)"
      ]
     },
     "execution_count": 165,
     "metadata": {},
     "output_type": "execute_result"
    }
   ],
   "source": [
    "from sklearn.model_selection import StratifiedKFold\n",
    "skf = StratifiedKFold(n_splits=3, random_state=42)\n",
    "skf"
   ]
  },
  {
   "cell_type": "code",
   "execution_count": 166,
   "metadata": {
    "ExecuteTime": {
     "end_time": "2020-07-23T16:51:22.362903Z",
     "start_time": "2020-07-23T16:51:22.235398Z"
    }
   },
   "outputs": [
    {
     "data": {
      "text/plain": [
       "((1283143, 3), (1283143,))"
      ]
     },
     "execution_count": 166,
     "metadata": {},
     "output_type": "execute_result"
    }
   ],
   "source": [
    "X.shape, y.shape"
   ]
  },
  {
   "cell_type": "code",
   "execution_count": 167,
   "metadata": {
    "ExecuteTime": {
     "end_time": "2020-07-23T16:51:34.144681Z",
     "start_time": "2020-07-23T16:51:34.030684Z"
    }
   },
   "outputs": [
    {
     "data": {
      "text/plain": [
       "<generator object _BaseKFold.split at 0x000002059CB9F048>"
      ]
     },
     "execution_count": 167,
     "metadata": {},
     "output_type": "execute_result"
    }
   ],
   "source": [
    "skf.split(X,y)"
   ]
  },
  {
   "cell_type": "code",
   "execution_count": 168,
   "metadata": {
    "ExecuteTime": {
     "end_time": "2020-07-23T16:51:34.266694Z",
     "start_time": "2020-07-23T16:51:34.146190Z"
    }
   },
   "outputs": [
    {
     "data": {
      "text/plain": [
       "dti           25.70\n",
       "int_rate      15.02\n",
       "emp_length    10.00\n",
       "Name: 91919, dtype: float64"
      ]
     },
     "execution_count": 168,
     "metadata": {},
     "output_type": "execute_result"
    }
   ],
   "source": [
    "X.iloc[1965]"
   ]
  },
  {
   "cell_type": "code",
   "execution_count": 169,
   "metadata": {
    "ExecuteTime": {
     "end_time": "2020-07-23T16:52:06.607275Z",
     "start_time": "2020-07-23T16:51:45.868523Z"
    }
   },
   "outputs": [
    {
     "data": {
      "text/plain": [
       "5"
      ]
     },
     "execution_count": 169,
     "metadata": {},
     "output_type": "execute_result"
    },
    {
     "name": "stdout",
     "output_type": "stream",
     "text": [
      "Train [ 221907  221910  221912 ... 1283140 1283141 1283142] Validation: [     0      1      2 ... 265601 265603 265604]\n"
     ]
    },
    {
     "data": {
      "text/plain": [
       "XGBClassifier(alpha=10, base_score=0.5, booster='gbtree', colsample_bylevel=1,\n",
       "              colsample_bynode=1, colsample_bytree=0.3, gamma=0,\n",
       "              learning_rate=0.1, max_delta_step=1, max_depth=5,\n",
       "              min_child_weight=1, missing=None, n_estimators=10, n_jobs=1,\n",
       "              nthread=None, objective='reg:logistic', random_state=0,\n",
       "              reg_alpha=0, reg_lambda=1, scale_pos_weight=0.29, seed=None,\n",
       "              silent=None, subsample=1, verbosity=1)"
      ]
     },
     "execution_count": 169,
     "metadata": {},
     "output_type": "execute_result"
    },
    {
     "name": "stdout",
     "output_type": "stream",
     "text": [
      "Train [      0       1       2 ... 1283140 1283141 1283142] Validation: [221907 221910 221912 ... 524424 524425 524426]\n"
     ]
    },
    {
     "data": {
      "text/plain": [
       "XGBClassifier(alpha=10, base_score=0.5, booster='gbtree', colsample_bylevel=1,\n",
       "              colsample_bynode=1, colsample_bytree=0.3, gamma=0,\n",
       "              learning_rate=0.1, max_delta_step=1, max_depth=5,\n",
       "              min_child_weight=1, missing=None, n_estimators=10, n_jobs=1,\n",
       "              nthread=None, objective='reg:logistic', random_state=0,\n",
       "              reg_alpha=0, reg_lambda=1, scale_pos_weight=0.29, seed=None,\n",
       "              silent=None, subsample=1, verbosity=1)"
      ]
     },
     "execution_count": 169,
     "metadata": {},
     "output_type": "execute_result"
    },
    {
     "name": "stdout",
     "output_type": "stream",
     "text": [
      "Train [      0       1       2 ... 1283140 1283141 1283142] Validation: [469015 469016 469030 ... 785718 785719 785720]\n"
     ]
    },
    {
     "data": {
      "text/plain": [
       "XGBClassifier(alpha=10, base_score=0.5, booster='gbtree', colsample_bylevel=1,\n",
       "              colsample_bynode=1, colsample_bytree=0.3, gamma=0,\n",
       "              learning_rate=0.1, max_delta_step=1, max_depth=5,\n",
       "              min_child_weight=1, missing=None, n_estimators=10, n_jobs=1,\n",
       "              nthread=None, objective='reg:logistic', random_state=0,\n",
       "              reg_alpha=0, reg_lambda=1, scale_pos_weight=0.29, seed=None,\n",
       "              silent=None, subsample=1, verbosity=1)"
      ]
     },
     "execution_count": 169,
     "metadata": {},
     "output_type": "execute_result"
    },
    {
     "name": "stdout",
     "output_type": "stream",
     "text": [
      "Train [      0       1       2 ... 1283140 1283141 1283142] Validation: [ 717202  717206  717221 ... 1032795 1032796 1032797]\n"
     ]
    },
    {
     "data": {
      "text/plain": [
       "XGBClassifier(alpha=10, base_score=0.5, booster='gbtree', colsample_bylevel=1,\n",
       "              colsample_bynode=1, colsample_bytree=0.3, gamma=0,\n",
       "              learning_rate=0.1, max_delta_step=1, max_depth=5,\n",
       "              min_child_weight=1, missing=None, n_estimators=10, n_jobs=1,\n",
       "              nthread=None, objective='reg:logistic', random_state=0,\n",
       "              reg_alpha=0, reg_lambda=1, scale_pos_weight=0.29, seed=None,\n",
       "              silent=None, subsample=1, verbosity=1)"
      ]
     },
     "execution_count": 169,
     "metadata": {},
     "output_type": "execute_result"
    },
    {
     "name": "stdout",
     "output_type": "stream",
     "text": [
      "Train [      0       1       2 ... 1032795 1032796 1032797] Validation: [1000300 1000326 1000334 ... 1283140 1283141 1283142]\n"
     ]
    },
    {
     "data": {
      "text/plain": [
       "XGBClassifier(alpha=10, base_score=0.5, booster='gbtree', colsample_bylevel=1,\n",
       "              colsample_bynode=1, colsample_bytree=0.3, gamma=0,\n",
       "              learning_rate=0.1, max_delta_step=1, max_depth=5,\n",
       "              min_child_weight=1, missing=None, n_estimators=10, n_jobs=1,\n",
       "              nthread=None, objective='reg:logistic', random_state=0,\n",
       "              reg_alpha=0, reg_lambda=1, scale_pos_weight=0.29, seed=None,\n",
       "              silent=None, subsample=1, verbosity=1)"
      ]
     },
     "execution_count": 169,
     "metadata": {},
     "output_type": "execute_result"
    },
    {
     "name": "stdout",
     "output_type": "stream",
     "text": [
      "[0.7136188286638351, 0.7164077325633502, 0.7122995152516483, 0.7137529809685615, 0.7398530168181181]\n"
     ]
    }
   ],
   "source": [
    "accuracy=[]\n",
    "skf=StratifiedKFold(n_splits=5, random_state=None)\n",
    "skf.get_n_splits(X,y)\n",
    "#X is the featue set and y is the target\n",
    "for train_index, test_index in skf.split(X,y):\n",
    "    print(\"Train\",train_index,\"Validation:\", test_index)\n",
    "    X1_train, X1_test = X.iloc[train_index], X.iloc[test_index]\n",
    "    y1_train, y1_test = y.iloc[train_index], y.iloc[test_index]\n",
    "    \n",
    "    xg_reg.fit(X1_train, y1_train)\n",
    "    y1_pred = xg_reg.predict(X1_test)\n",
    "    score=accuracy_score(y1_pred,y1_test)\n",
    "    accuracy.append(score)\n",
    "    \n",
    "print(accuracy)"
   ]
  },
  {
   "cell_type": "code",
   "execution_count": 170,
   "metadata": {
    "ExecuteTime": {
     "end_time": "2020-07-23T16:52:18.734631Z",
     "start_time": "2020-07-23T16:52:18.613635Z"
    }
   },
   "outputs": [
    {
     "name": "stdout",
     "output_type": "stream",
     "text": [
      "RMSE: 0.510046\n"
     ]
    }
   ],
   "source": [
    "rmse = np.sqrt(mean_squared_error(y1_test, y1_pred))\n",
    "print(\"RMSE: %f\" % (rmse))"
   ]
  },
  {
   "cell_type": "code",
   "execution_count": 171,
   "metadata": {
    "ExecuteTime": {
     "end_time": "2020-07-23T16:52:30.736444Z",
     "start_time": "2020-07-23T16:52:30.620448Z"
    }
   },
   "outputs": [
    {
     "data": {
      "text/plain": [
       "0.7191864148531026"
      ]
     },
     "execution_count": 171,
     "metadata": {},
     "output_type": "execute_result"
    }
   ],
   "source": [
    "np.array(accuracy).mean()"
   ]
  },
  {
   "cell_type": "markdown",
   "metadata": {},
   "source": [
    "## Confusion Matrix"
   ]
  },
  {
   "cell_type": "code",
   "execution_count": 173,
   "metadata": {
    "ExecuteTime": {
     "end_time": "2020-07-23T16:53:34.056647Z",
     "start_time": "2020-07-23T16:53:33.655659Z"
    }
   },
   "outputs": [],
   "source": [
    "cnf_matrix = confusion_matrix(y1_test, y1_pred)#y_pred_tree\n",
    "np.set_printoptions(precision=2)"
   ]
  },
  {
   "cell_type": "code",
   "execution_count": 176,
   "metadata": {
    "ExecuteTime": {
     "end_time": "2020-07-23T16:54:43.087736Z",
     "start_time": "2020-07-23T16:54:42.784746Z"
    }
   },
   "outputs": [
    {
     "data": {
      "text/plain": [
       "<Figure size 432x288 with 0 Axes>"
      ]
     },
     "execution_count": 176,
     "metadata": {},
     "output_type": "execute_result"
    },
    {
     "data": {
      "text/plain": [
       "<Figure size 432x288 with 0 Axes>"
      ]
     },
     "metadata": {},
     "output_type": "display_data"
    },
    {
     "data": {
      "image/png": "[encoded data removed]",
      "text/plain": [
       "<Figure size 396x288 with 2 Axes>"
      ]
     },
     "metadata": {
      "needs_background": "light"
     },
     "output_type": "display_data"
    }
   ],
   "source": [
    "plt.figure()\n",
    "plot_confusion_matrix(cnf_matrix, title='XGBoost, not-normalized, sample weighted, Kfold, (dti, int_rate,employment)')"
   ]
  },
  {
   "cell_type": "code",
   "execution_count": 175,
   "metadata": {
    "ExecuteTime": {
     "end_time": "2020-07-23T16:53:58.873287Z",
     "start_time": "2020-07-23T16:53:58.460287Z"
    },
    "scrolled": true
   },
   "outputs": [
    {
     "name": "stdout",
     "output_type": "stream",
     "text": [
      "True Negatives:  14435 5.6248733575447725\n",
      "False Positives:  36907 14.381517215580528\n",
      "False Negatives:  29854 11.633181102607667\n",
      "True Positives:  175432 68.36042832426703\n",
      "Accuracy 73.9853016818118\n",
      "Precision 0.83\n",
      "Recall 0.85\n",
      "F1 Score 0.84\n",
      "Specificity 0.28\n"
     ]
    }
   ],
   "source": [
    "get_confusion_stats(y1_test,y1_pred)"
   ]
  },
  {
   "cell_type": "markdown",
   "metadata": {},
   "source": [
    "## Results\n",
    "* Most balanced between highest accuracy and best specificity at that accuracy"
   ]
  },
  {
   "cell_type": "markdown",
   "metadata": {},
   "source": [
    "# XG Boost II (weighted, sub_int)\n",
    "* going to weight the unbalanced sample and use sub_int instead hot encoded grades"
   ]
  },
  {
   "cell_type": "code",
   "execution_count": 120,
   "metadata": {
    "ExecuteTime": {
     "end_time": "2020-07-23T16:18:40.372285Z",
     "start_time": "2020-07-23T16:18:40.138786Z"
    }
   },
   "outputs": [
    {
     "data": {
      "text/plain": [
       "Good    1026432\n",
       "Bad      256711\n",
       "Name: loan_status, dtype: int64"
      ]
     },
     "execution_count": 120,
     "metadata": {},
     "output_type": "execute_result"
    }
   ],
   "source": [
    "data['loan_status'].value_counts()"
   ]
  },
  {
   "cell_type": "code",
   "execution_count": 121,
   "metadata": {
    "ExecuteTime": {
     "end_time": "2020-07-23T16:19:16.402125Z",
     "start_time": "2020-07-23T16:19:16.285127Z"
    }
   },
   "outputs": [
    {
     "data": {
      "text/plain": [
       "Index(['funded_amnt', 'term', 'int_rate', 'installment', 'grade',\n",
       "       'application_type', 'emp_length', 'home_ownership', 'annual_inc',\n",
       "       'verification_status', 'issue_d', 'loan_status', 'purpose',\n",
       "       'addr_state', 'dti', 'open_acc', 'tot_cur_bal', 'all_util', 'num_sats',\n",
       "       'mort_acc', 'pct_tl_nvr_dlq', 'total_acc', 'last_pymnt_d',\n",
       "       'loan_status_n', 'sub_int', 'sub_grade_A1', 'sub_grade_A2',\n",
       "       'sub_grade_A3', 'sub_grade_A4', 'sub_grade_A5', 'sub_grade_B1',\n",
       "       'sub_grade_B2', 'sub_grade_B3', 'sub_grade_B4', 'sub_grade_B5',\n",
       "       'sub_grade_C1', 'sub_grade_C2', 'sub_grade_C3', 'sub_grade_C4',\n",
       "       'sub_grade_C5', 'sub_grade_D1', 'sub_grade_D2', 'sub_grade_D3',\n",
       "       'sub_grade_D4', 'sub_grade_D5', 'sub_grade_E1', 'sub_grade_E2',\n",
       "       'sub_grade_E3', 'sub_grade_E4', 'sub_grade_E5', 'sub_grade_F1',\n",
       "       'sub_grade_F2', 'sub_grade_F3', 'sub_grade_F4', 'sub_grade_F5',\n",
       "       'sub_grade_G1', 'sub_grade_G2', 'sub_grade_G3', 'sub_grade_G4',\n",
       "       'sub_grade_G5'],\n",
       "      dtype='object')"
      ]
     },
     "execution_count": 121,
     "metadata": {},
     "output_type": "execute_result"
    }
   ],
   "source": [
    "data.columns"
   ]
  },
  {
   "cell_type": "code",
   "execution_count": 122,
   "metadata": {
    "ExecuteTime": {
     "end_time": "2020-07-23T16:19:32.383943Z",
     "start_time": "2020-07-23T16:19:32.269865Z"
    }
   },
   "outputs": [],
   "source": [
    "#conda install -c anaconda py-xgboost\n",
    "import xgboost as xgb\n",
    "from xgboost import XGBClassifier\n",
    "from sklearn.metrics import mean_squared_error"
   ]
  },
  {
   "cell_type": "code",
   "execution_count": 123,
   "metadata": {
    "ExecuteTime": {
     "end_time": "2020-07-23T16:19:44.592301Z",
     "start_time": "2020-07-23T16:19:44.483305Z"
    }
   },
   "outputs": [],
   "source": [
    "# define model\n",
    "model = XGBClassifier()"
   ]
  },
  {
   "cell_type": "code",
   "execution_count": 124,
   "metadata": {
    "ExecuteTime": {
     "end_time": "2020-07-23T16:19:56.479222Z",
     "start_time": "2020-07-23T16:19:56.363226Z"
    }
   },
   "outputs": [],
   "source": [
    "selected_features = data[['sub_int']]"
   ]
  },
  {
   "cell_type": "code",
   "execution_count": 125,
   "metadata": {
    "ExecuteTime": {
     "end_time": "2020-07-23T16:20:10.611138Z",
     "start_time": "2020-07-23T16:20:10.493141Z"
    }
   },
   "outputs": [],
   "source": [
    "target = data['loan_status_n']"
   ]
  },
  {
   "cell_type": "code",
   "execution_count": 126,
   "metadata": {
    "ExecuteTime": {
     "end_time": "2020-07-23T16:20:37.645719Z",
     "start_time": "2020-07-23T16:20:37.532723Z"
    }
   },
   "outputs": [],
   "source": [
    "X,y = selected_features,target"
   ]
  },
  {
   "cell_type": "code",
   "execution_count": 127,
   "metadata": {
    "ExecuteTime": {
     "end_time": "2020-07-23T16:20:50.306256Z",
     "start_time": "2020-07-23T16:20:49.688260Z"
    }
   },
   "outputs": [
    {
     "name": "stderr",
     "output_type": "stream",
     "text": [
      "C:\\Users\\ppage\\Anaconda3\\envs\\TF\\lib\\site-packages\\xgboost\\core.py:587: FutureWarning: Series.base is deprecated and will be removed in a future version\n",
      "  if getattr(data, 'base', None) is not None and \\\n",
      "C:\\Users\\ppage\\Anaconda3\\envs\\TF\\lib\\site-packages\\xgboost\\core.py:588: FutureWarning: Series.base is deprecated and will be removed in a future version\n",
      "  data.base is not None and isinstance(data, np.ndarray) \\\n"
     ]
    }
   ],
   "source": [
    "data_dmatrix = xgb.DMatrix(data=X,label=y)"
   ]
  },
  {
   "cell_type": "code",
   "execution_count": 128,
   "metadata": {
    "ExecuteTime": {
     "end_time": "2020-07-23T16:21:02.572142Z",
     "start_time": "2020-07-23T16:21:02.326137Z"
    }
   },
   "outputs": [
    {
     "name": "stdout",
     "output_type": "stream",
     "text": [
      "number of training samples:  1026514\n",
      "number of test samples:  256629\n"
     ]
    }
   ],
   "source": [
    "from sklearn.model_selection import train_test_split\n",
    "\n",
    "X_train, X_test, y_train, y_test = train_test_split(\n",
    "    X, y, test_size=0.2, random_state=123)\n",
    "\n",
    "print(\"number of training samples: \", len(X_train))\n",
    "print(\"number of test samples: \", len(y_test))"
   ]
  },
  {
   "cell_type": "code",
   "execution_count": 131,
   "metadata": {
    "ExecuteTime": {
     "end_time": "2020-07-23T16:21:38.111337Z",
     "start_time": "2020-07-23T16:21:37.992330Z"
    }
   },
   "outputs": [
    {
     "data": {
      "text/plain": [
       "1    205360\n",
       "0     51269\n",
       "Name: loan_status_n, dtype: int64"
      ]
     },
     "execution_count": 131,
     "metadata": {},
     "output_type": "execute_result"
    }
   ],
   "source": [
    "y_test.value_counts()"
   ]
  },
  {
   "cell_type": "code",
   "execution_count": 130,
   "metadata": {
    "ExecuteTime": {
     "end_time": "2020-07-23T16:21:26.382414Z",
     "start_time": "2020-07-23T16:21:26.273418Z"
    }
   },
   "outputs": [],
   "source": [
    "# set  parameters for XGBClassifer\n",
    "xg_reg = xgb.XGBClassifier(objective='reg:logistic', colsample_bytree=0.3, learning_rate=0.1,\n",
    "                           max_depth=5, alpha=10, n_estimators=10, scale_pos_weight=.29, max_delta_step=1)"
   ]
  },
  {
   "cell_type": "code",
   "execution_count": 132,
   "metadata": {
    "ExecuteTime": {
     "end_time": "2020-07-23T16:22:01.886585Z",
     "start_time": "2020-07-23T16:21:58.292546Z"
    }
   },
   "outputs": [
    {
     "data": {
      "text/plain": [
       "XGBClassifier(alpha=10, base_score=0.5, booster='gbtree', colsample_bylevel=1,\n",
       "              colsample_bynode=1, colsample_bytree=0.3, gamma=0,\n",
       "              learning_rate=0.1, max_delta_step=1, max_depth=5,\n",
       "              min_child_weight=1, missing=None, n_estimators=10, n_jobs=1,\n",
       "              nthread=None, objective='reg:logistic', random_state=0,\n",
       "              reg_alpha=0, reg_lambda=1, scale_pos_weight=0.29, seed=None,\n",
       "              silent=None, subsample=1, verbosity=1)"
      ]
     },
     "execution_count": 132,
     "metadata": {},
     "output_type": "execute_result"
    }
   ],
   "source": [
    "xg_reg.fit(X_train, y_train)"
   ]
  },
  {
   "cell_type": "code",
   "execution_count": 133,
   "metadata": {
    "ExecuteTime": {
     "end_time": "2020-07-23T16:22:14.046989Z",
     "start_time": "2020-07-23T16:22:13.845994Z"
    }
   },
   "outputs": [],
   "source": [
    "y_pred = xg_reg.predict(X_test)"
   ]
  },
  {
   "cell_type": "code",
   "execution_count": 134,
   "metadata": {
    "ExecuteTime": {
     "end_time": "2020-07-23T16:22:26.000458Z",
     "start_time": "2020-07-23T16:22:25.885953Z"
    }
   },
   "outputs": [
    {
     "name": "stdout",
     "output_type": "stream",
     "text": [
      "RMSE: 0.599706\n"
     ]
    }
   ],
   "source": [
    "rmse = np.sqrt(mean_squared_error(y_test, y_pred))\n",
    "print(\"RMSE: %f\" % (rmse))"
   ]
  },
  {
   "cell_type": "markdown",
   "metadata": {},
   "source": [
    "##Confustion Matrix"
   ]
  },
  {
   "cell_type": "code",
   "execution_count": 135,
   "metadata": {
    "ExecuteTime": {
     "end_time": "2020-07-23T16:22:38.386731Z",
     "start_time": "2020-07-23T16:22:37.934733Z"
    }
   },
   "outputs": [],
   "source": [
    "cnf_matrix = confusion_matrix(y_test, y_pred)  # y_pred_tree\n",
    "np.set_printoptions(precision=2)"
   ]
  },
  {
   "cell_type": "code",
   "execution_count": 136,
   "metadata": {
    "ExecuteTime": {
     "end_time": "2020-07-23T16:22:50.486988Z",
     "start_time": "2020-07-23T16:22:50.188998Z"
    }
   },
   "outputs": [
    {
     "data": {
      "text/plain": [
       "<Figure size 432x288 with 0 Axes>"
      ]
     },
     "execution_count": 136,
     "metadata": {},
     "output_type": "execute_result"
    },
    {
     "data": {
      "text/plain": [
       "<Figure size 432x288 with 0 Axes>"
      ]
     },
     "metadata": {},
     "output_type": "display_data"
    },
    {
     "data": {
      "image/png": "[encoded data removed]",
      "text/plain": [
       "<Figure size 396x288 with 2 Axes>"
      ]
     },
     "metadata": {
      "needs_background": "light"
     },
     "output_type": "display_data"
    }
   ],
   "source": [
    "plt.figure()\n",
    "plot_confusion_matrix(cnf_matrix, title='XGBoost, not normalized, weighted (sub_int)')"
   ]
  },
  {
   "cell_type": "code",
   "execution_count": 138,
   "metadata": {
    "ExecuteTime": {
     "end_time": "2020-07-23T16:23:08.362792Z",
     "start_time": "2020-07-23T16:23:07.949779Z"
    }
   },
   "outputs": [
    {
     "name": "stdout",
     "output_type": "stream",
     "text": [
      "True Negatives:  32158 12.530929863733247\n",
      "False Positives:  19111 7.446937018029918\n",
      "False Negatives:  73185 28.51782144652397\n",
      "True Positives:  132175 51.50431167171286\n",
      "Accuracy 64.0352415354461\n",
      "Precision 0.87\n",
      "Recall 0.64\n",
      "F1 Score 0.74\n",
      "Specificity 0.63\n"
     ]
    }
   ],
   "source": [
    "get_confusion_stats(y_test,y_pred)"
   ]
  },
  {
   "cell_type": "markdown",
   "metadata": {},
   "source": [
    "## Kfold Stratified"
   ]
  },
  {
   "cell_type": "code",
   "execution_count": 139,
   "metadata": {
    "ExecuteTime": {
     "end_time": "2020-07-23T16:23:36.487443Z",
     "start_time": "2020-07-23T16:23:36.365448Z"
    }
   },
   "outputs": [
    {
     "data": {
      "text/plain": [
       "StratifiedKFold(n_splits=3, random_state=42, shuffle=False)"
      ]
     },
     "execution_count": 139,
     "metadata": {},
     "output_type": "execute_result"
    }
   ],
   "source": [
    "from sklearn.model_selection import StratifiedKFold\n",
    "skf = StratifiedKFold(n_splits=3, random_state=42)\n",
    "skf"
   ]
  },
  {
   "cell_type": "code",
   "execution_count": 140,
   "metadata": {
    "ExecuteTime": {
     "end_time": "2020-07-23T16:23:48.394306Z",
     "start_time": "2020-07-23T16:23:48.283310Z"
    }
   },
   "outputs": [
    {
     "data": {
      "text/plain": [
       "((1283143, 1), (1283143,))"
      ]
     },
     "execution_count": 140,
     "metadata": {},
     "output_type": "execute_result"
    }
   ],
   "source": [
    "X.shape, y.shape"
   ]
  },
  {
   "cell_type": "code",
   "execution_count": 141,
   "metadata": {
    "ExecuteTime": {
     "end_time": "2020-07-23T16:24:53.922450Z",
     "start_time": "2020-07-23T16:24:53.805455Z"
    }
   },
   "outputs": [
    {
     "data": {
      "text/plain": [
       "<generator object _BaseKFold.split at 0x000002059CACF1C8>"
      ]
     },
     "execution_count": 141,
     "metadata": {},
     "output_type": "execute_result"
    }
   ],
   "source": [
    "skf.split(X,y)"
   ]
  },
  {
   "cell_type": "code",
   "execution_count": 142,
   "metadata": {
    "ExecuteTime": {
     "end_time": "2020-07-23T16:25:06.001947Z",
     "start_time": "2020-07-23T16:25:05.887950Z"
    }
   },
   "outputs": [
    {
     "data": {
      "text/plain": [
       "sub_int    13.0\n",
       "Name: 91919, dtype: float64"
      ]
     },
     "execution_count": 142,
     "metadata": {},
     "output_type": "execute_result"
    }
   ],
   "source": [
    "X.iloc[1965]"
   ]
  },
  {
   "cell_type": "code",
   "execution_count": 143,
   "metadata": {
    "ExecuteTime": {
     "end_time": "2020-07-23T16:25:35.741088Z",
     "start_time": "2020-07-23T16:25:17.836305Z"
    }
   },
   "outputs": [
    {
     "data": {
      "text/plain": [
       "5"
      ]
     },
     "execution_count": 143,
     "metadata": {},
     "output_type": "execute_result"
    },
    {
     "name": "stdout",
     "output_type": "stream",
     "text": [
      "Train [ 221907  221910  221912 ... 1283140 1283141 1283142] Validation: [     0      1      2 ... 265601 265603 265604]\n"
     ]
    },
    {
     "data": {
      "text/plain": [
       "XGBClassifier(alpha=10, base_score=0.5, booster='gbtree', colsample_bylevel=1,\n",
       "              colsample_bynode=1, colsample_bytree=0.3, gamma=0,\n",
       "              learning_rate=0.1, max_delta_step=1, max_depth=5,\n",
       "              min_child_weight=1, missing=None, n_estimators=10, n_jobs=1,\n",
       "              nthread=None, objective='reg:logistic', random_state=0,\n",
       "              reg_alpha=0, reg_lambda=1, scale_pos_weight=0.29, seed=None,\n",
       "              silent=None, subsample=1, verbosity=1)"
      ]
     },
     "execution_count": 143,
     "metadata": {},
     "output_type": "execute_result"
    },
    {
     "name": "stdout",
     "output_type": "stream",
     "text": [
      "Train [      0       1       2 ... 1283140 1283141 1283142] Validation: [221907 221910 221912 ... 524424 524425 524426]\n"
     ]
    },
    {
     "data": {
      "text/plain": [
       "XGBClassifier(alpha=10, base_score=0.5, booster='gbtree', colsample_bylevel=1,\n",
       "              colsample_bynode=1, colsample_bytree=0.3, gamma=0,\n",
       "              learning_rate=0.1, max_delta_step=1, max_depth=5,\n",
       "              min_child_weight=1, missing=None, n_estimators=10, n_jobs=1,\n",
       "              nthread=None, objective='reg:logistic', random_state=0,\n",
       "              reg_alpha=0, reg_lambda=1, scale_pos_weight=0.29, seed=None,\n",
       "              silent=None, subsample=1, verbosity=1)"
      ]
     },
     "execution_count": 143,
     "metadata": {},
     "output_type": "execute_result"
    },
    {
     "name": "stdout",
     "output_type": "stream",
     "text": [
      "Train [      0       1       2 ... 1283140 1283141 1283142] Validation: [469015 469016 469030 ... 785718 785719 785720]\n"
     ]
    },
    {
     "data": {
      "text/plain": [
       "XGBClassifier(alpha=10, base_score=0.5, booster='gbtree', colsample_bylevel=1,\n",
       "              colsample_bynode=1, colsample_bytree=0.3, gamma=0,\n",
       "              learning_rate=0.1, max_delta_step=1, max_depth=5,\n",
       "              min_child_weight=1, missing=None, n_estimators=10, n_jobs=1,\n",
       "              nthread=None, objective='reg:logistic', random_state=0,\n",
       "              reg_alpha=0, reg_lambda=1, scale_pos_weight=0.29, seed=None,\n",
       "              silent=None, subsample=1, verbosity=1)"
      ]
     },
     "execution_count": 143,
     "metadata": {},
     "output_type": "execute_result"
    },
    {
     "name": "stdout",
     "output_type": "stream",
     "text": [
      "Train [      0       1       2 ... 1283140 1283141 1283142] Validation: [ 717202  717206  717221 ... 1032795 1032796 1032797]\n"
     ]
    },
    {
     "data": {
      "text/plain": [
       "XGBClassifier(alpha=10, base_score=0.5, booster='gbtree', colsample_bylevel=1,\n",
       "              colsample_bynode=1, colsample_bytree=0.3, gamma=0,\n",
       "              learning_rate=0.1, max_delta_step=1, max_depth=5,\n",
       "              min_child_weight=1, missing=None, n_estimators=10, n_jobs=1,\n",
       "              nthread=None, objective='reg:logistic', random_state=0,\n",
       "              reg_alpha=0, reg_lambda=1, scale_pos_weight=0.29, seed=None,\n",
       "              silent=None, subsample=1, verbosity=1)"
      ]
     },
     "execution_count": 143,
     "metadata": {},
     "output_type": "execute_result"
    },
    {
     "name": "stdout",
     "output_type": "stream",
     "text": [
      "Train [      0       1       2 ... 1032795 1032796 1032797] Validation: [1000300 1000326 1000334 ... 1283140 1283141 1283142]\n"
     ]
    },
    {
     "data": {
      "text/plain": [
       "XGBClassifier(alpha=10, base_score=0.5, booster='gbtree', colsample_bylevel=1,\n",
       "              colsample_bynode=1, colsample_bytree=0.3, gamma=0,\n",
       "              learning_rate=0.1, max_delta_step=1, max_depth=5,\n",
       "              min_child_weight=1, missing=None, n_estimators=10, n_jobs=1,\n",
       "              nthread=None, objective='reg:logistic', random_state=0,\n",
       "              reg_alpha=0, reg_lambda=1, scale_pos_weight=0.29, seed=None,\n",
       "              silent=None, subsample=1, verbosity=1)"
      ]
     },
     "execution_count": 143,
     "metadata": {},
     "output_type": "execute_result"
    },
    {
     "name": "stdout",
     "output_type": "stream",
     "text": [
      "[0.6534777695514944, 0.6893180427777064, 0.6366140873170504, 0.6619971320354755, 0.621241641597955]\n"
     ]
    }
   ],
   "source": [
    "accuracy=[]\n",
    "skf=StratifiedKFold(n_splits=5, random_state=None)\n",
    "skf.get_n_splits(X,y)\n",
    "#X is the featue set and y is the target\n",
    "for train_index, test_index in skf.split(X,y):\n",
    "    print(\"Train\",train_index,\"Validation:\", test_index)\n",
    "    X1_train, X1_test = X.iloc[train_index], X.iloc[test_index]\n",
    "    y1_train, y1_test = y.iloc[train_index], y.iloc[test_index]\n",
    "    \n",
    "    xg_reg.fit(X1_train, y1_train)\n",
    "    y1_pred = xg_reg.predict(X1_test)\n",
    "    score=accuracy_score(y1_pred,y1_test)\n",
    "    accuracy.append(score)\n",
    "    \n",
    "print(accuracy)"
   ]
  },
  {
   "cell_type": "code",
   "execution_count": 144,
   "metadata": {
    "ExecuteTime": {
     "end_time": "2020-07-23T16:25:56.457304Z",
     "start_time": "2020-07-23T16:25:56.334308Z"
    }
   },
   "outputs": [
    {
     "name": "stdout",
     "output_type": "stream",
     "text": [
      "RMSE: 0.615433\n"
     ]
    }
   ],
   "source": [
    "rmse = np.sqrt(mean_squared_error(y1_test, y1_pred))\n",
    "print(\"RMSE: %f\" % (rmse))"
   ]
  },
  {
   "cell_type": "code",
   "execution_count": 145,
   "metadata": {
    "ExecuteTime": {
     "end_time": "2020-07-23T16:26:08.503784Z",
     "start_time": "2020-07-23T16:26:08.386788Z"
    }
   },
   "outputs": [
    {
     "data": {
      "text/plain": [
       "0.6525297346559363"
      ]
     },
     "execution_count": 145,
     "metadata": {},
     "output_type": "execute_result"
    }
   ],
   "source": [
    "np.array(accuracy).mean()"
   ]
  },
  {
   "cell_type": "markdown",
   "metadata": {},
   "source": [
    "## Confustion Matrix (Kfold Stratified)"
   ]
  },
  {
   "cell_type": "code",
   "execution_count": 147,
   "metadata": {
    "ExecuteTime": {
     "end_time": "2020-07-23T16:28:11.186086Z",
     "start_time": "2020-07-23T16:28:10.754577Z"
    }
   },
   "outputs": [],
   "source": [
    "cnf_matrix = confusion_matrix(y1_test, y1_pred)#y_pred_tree\n",
    "np.set_printoptions(precision=2)"
   ]
  },
  {
   "cell_type": "code",
   "execution_count": 148,
   "metadata": {
    "ExecuteTime": {
     "end_time": "2020-07-23T16:28:23.441014Z",
     "start_time": "2020-07-23T16:28:23.147013Z"
    }
   },
   "outputs": [
    {
     "data": {
      "text/plain": [
       "<Figure size 432x288 with 0 Axes>"
      ]
     },
     "execution_count": 148,
     "metadata": {},
     "output_type": "execute_result"
    },
    {
     "data": {
      "text/plain": [
       "<Figure size 432x288 with 0 Axes>"
      ]
     },
     "metadata": {},
     "output_type": "display_data"
    },
    {
     "data": {
      "image/png": "[encoded data removed]",
      "text/plain": [
       "<Figure size 396x288 with 2 Axes>"
      ]
     },
     "metadata": {
      "needs_background": "light"
     },
     "output_type": "display_data"
    }
   ],
   "source": [
    "plt.figure()\n",
    "plot_confusion_matrix(\n",
    "    cnf_matrix, title='XGBoost, not normalized, KFold Stratified, Weighted (sub_int)')"
   ]
  },
  {
   "cell_type": "code",
   "execution_count": 150,
   "metadata": {
    "ExecuteTime": {
     "end_time": "2020-07-23T16:28:45.305822Z",
     "start_time": "2020-07-23T16:28:44.797826Z"
    }
   },
   "outputs": [
    {
     "name": "stdout",
     "output_type": "stream",
     "text": [
      "True Negatives:  33831 13.1828950854934\n",
      "False Positives:  17511 6.823495487631903\n",
      "False Negatives:  79689 31.052340352572593\n",
      "True Positives:  125597 48.9412690743021\n",
      "Accuracy 62.1241641597955\n",
      "Precision 0.88\n",
      "Recall 0.61\n",
      "F1 Score 0.72\n",
      "Specificity 0.66\n"
     ]
    }
   ],
   "source": [
    "get_confusion_stats(y1_test,y1_pred)"
   ]
  },
  {
   "cell_type": "markdown",
   "metadata": {},
   "source": [
    "## Results\n",
    "* Most conservative results with respect to minimizing False Positives and as much accuracy "
   ]
  },
  {
   "cell_type": "code",
   "execution_count": null,
   "metadata": {},
   "outputs": [],
   "source": []
  }
 ],
 "metadata": {
  "kernelspec": {
   "display_name": "Python 3",
   "language": "python",
   "name": "python3"
  },
  "language_info": {
   "codemirror_mode": {
    "name": "ipython",
    "version": 3
   },
   "file_extension": ".py",
   "mimetype": "text/x-python",
   "name": "python",
   "nbconvert_exporter": "python",
   "pygments_lexer": "ipython3",
   "version": "3.7.4"
  },
  "toc": {
   "base_numbering": 1,
   "nav_menu": {},
   "number_sections": true,
   "sideBar": true,
   "skip_h1_title": false,
   "title_cell": "Table of Contents",
   "title_sidebar": "Contents",
   "toc_cell": false,
   "toc_position": {
    "height": "calc(100% - 180px)",
    "left": "10px",
    "top": "150px",
    "width": "307.2px"
   },
   "toc_section_display": true,
   "toc_window_display": true
  },
  "varInspector": {
   "cols": {
    "lenName": 16,
    "lenType": 16,
    "lenVar": 40
   },
   "kernels_config": {
    "python": {
     "delete_cmd_postfix": "",
     "delete_cmd_prefix": "del ",
     "library": "var_list.py",
     "varRefreshCmd": "print(var_dic_list())"
    },
    "r": {
     "delete_cmd_postfix": ") ",
     "delete_cmd_prefix": "rm(",
     "library": "var_list.r",
     "varRefreshCmd": "cat(var_dic_list()) "
    }
   },
   "types_to_exclude": [
    "module",
    "function",
    "builtin_function_or_method",
    "instance",
    "_Feature"
   ],
   "window_display": false
  }
 },
 "nbformat": 4,
 "nbformat_minor": 2
}
